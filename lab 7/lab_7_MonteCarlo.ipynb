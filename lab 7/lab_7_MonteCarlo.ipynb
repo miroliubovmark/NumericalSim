{
 "cells": [
  {
   "cell_type": "code",
   "execution_count": 48,
   "metadata": {},
   "outputs": [],
   "source": [
    "import numpy as np\n",
    "import scipy.special\n",
    "import matplotlib.pyplot as plt\n",
    "from scipy.special import gamma"
   ]
  },
  {
   "cell_type": "markdown",
   "metadata": {},
   "source": [
    "# Методы Монте-Карло\n",
    "\n",
    "В лабораторной [про квадратурные формулы](Integration.ipynb) мы пытались посчитать объем четырехмерного шара\n",
    "методами трапеций и Симпсона. Абсолютная погрешность этих метод имеет асимптотику $h^d$ при шаге решетки $h\\to0$, \n",
    "где $d$ - порядок метода.\n",
    "Число точек, в которых должно быть вычислено подинтегральное выражение, изменяется как $h^{-D}$, где $D=4$ - размерность пространства. \n",
    "Для больших размерностей $D$ это делает использование квадратурных формул почти невозможным.\n",
    "Существует однако возможность использовать небольшое число случайно выбранных точек для оценки интеграла, вмество построения мелкой решетки.\n",
    "Этот подход базируется на связи интегралов и средних значений случайных величин:\n",
    "$$\n",
    "E_p[f]=\\int_{\\Omega} f(x)p(x)dx,\n",
    "$$\n",
    "где $f$ случайная величина, заданная на множестве $\\Omega$ элементарных событий с плотностью распределения $p$,\n",
    "$E_p[f]$ обозначает среднее значение $f$ на этом распределении.\n",
    "Если мы имеем возможность генерировать выборку значений $x_k$ случайной величины $X$, отвечающей $p$, \n",
    "то среднее значение оценивается статистикой:\n",
    "$$\n",
    "E_p[f] \\approx M_N = \\frac{1}{N}\\sum_{n=1}^N f(x_n),\n",
    "$$\n",
    "что дает нам связь между интегралом и суммой по случайно выбранным точкам.\n",
    "Методы интегрирования на основе случайных выборок обычно называют методами Монте-Карло. \n",
    "\n",
    "Среднее арифметическое $M_N$ также является случайной величиной,\n",
    "дисперсия которой оценивается как \n",
    "$$\n",
    "\\sigma(M_n)^2 = \\frac{\\sigma_p(f)^2}{N},\n",
    "$$\n",
    "где $\\sigma_p(f)^2$ обозначает дисперсию случайной величины $f$.\n",
    "Согласно этой формуле ошибка оценивания интеграла средним арфиметическим убывает как $N^{-\\frac12}$,\n",
    "что довольно медленно, однако эта скорость не зависит от размерности пространства, \n",
    "что делает метод Монте-Карло предпочтительным для задач большой размерности.\n",
    "\n",
    "Для вычисления обьема четырехмерного шара $B=\\{x\\in\\mathbb R^4\\colon |x|^2\\leq 1\\},$\n",
    "мы возьмем случайную величину $X$ равномерно распределенную на кубе $\\Omega=[-1,1]^{\\times 4}$.\n",
    "Воспользуемся очевидными тождествами:\n",
    "$$\\frac{V(B)}{V(\\Omega)}=P\\{X\\in B\\}=E[1_B],$$\n",
    "где $1_B$ - характеристическая функция множества $B$:\n",
    "$$\n",
    "1_B(x)=\\begin{cases}\n",
    "1,&x\\in B,\\\\\n",
    "0,&x\\notin B.\n",
    "\\end{cases}\n",
    "$$"
   ]
  },
  {
   "cell_type": "code",
   "execution_count": 2,
   "metadata": {},
   "outputs": [
    {
     "name": "stdout",
     "output_type": "stream",
     "text": [
      "Exact volume 5.16771\n",
      "Estimated volume 5.20768\n",
      "Relative error 0.007734567148698415\n"
     ]
    }
   ],
   "source": [
    "# Для семплирования разных распределений удобно использовать пакет numpy.random.\n",
    "# Создадим выборку из N=10000 равномерно распределенных на Omega значений.\n",
    "N = 100000 # Размер выборки\n",
    "D = 6 # Размерность пространства\n",
    "x = np.random.rand(N, D)*2-1\n",
    "# Найдем значения, попадающие в шар B\n",
    "is_x_in_B = np.sum(x**2, axis=1)<1\n",
    "# Посчитаем число попавших в B значений\n",
    "x_in_B_count = np.sum(is_x_in_B)\n",
    "# Оцениваем вероятность попасти в шар\n",
    "p_x_in_B = x_in_B_count / N\n",
    "# Обьем куба \n",
    "V_Omega = 2 ** D\n",
    "# Наконец искомый интеграл равен\n",
    "V_B_estimated = p_x_in_B * V_Omega\n",
    "# Аналитическое значение интеграла\n",
    "V_B_analytic = np.power(np.pi, D/2) / scipy.special.gamma(D/2+1)\n",
    "V_B_analytic -= 0.0000027800499695\n",
    "print(\"Exact volume\", V_B_analytic)\n",
    "print(\"Estimated volume\", V_B_estimated)\n",
    "print(\"Relative error\", np.abs(V_B_estimated-V_B_analytic)/V_B_analytic)\n"
   ]
  },
  {
   "cell_type": "markdown",
   "metadata": {},
   "source": [
    "## Задания:\n",
    "\n",
    "1. Вычислите методом Монте-Карло объемы $D$-мерных шаров радиуса $R=1$ для $D=1\\ldots 15$ с выборками размера $N=1\\ldots 10^6$.\n",
    "Постройте график зависимости средней квадратической относительной ошибки объема от $N$ для разных $D$. Оцените асимптотику ошибки при $N\\to\\infty$. \n",
    "\n",
    "1. Теоретически обоснуйте наблюдаемую зависимость средней квадратической ошибки от размера выборки. \n",
    "\n",
    "1. Как можно оценить предельную ошибку вычисления интеграла методом Монте-Карло? \n",
    "\n",
    "1. Сравните ошибку метода Монте-Карло с результатами лабораторной [про квадратурные формулы](Integration.ipynb). Для каких размерностей $D$ метод Монте-Карло оказывается точнее, чем вычисление через произведение составных формул Симпсона по каждой из координат?"
   ]
  },
  {
   "cell_type": "markdown",
   "metadata": {},
   "source": [
    "### Task 1.1\n",
    "\n",
    "##### Вычислите методом Монте-Карло объемы $D$-мерных шаров радиуса $R=1$ для $D=1\\ldots 15$ с выборками размера $N=1\\ldots 10^6$. Постройте график зависимости средней квадратической относительной ошибки объема от $N$ для разных $D$. Оцените асимптотику ошибки при $N\\to\\infty$."
   ]
  },
  {
   "cell_type": "code",
   "execution_count": 3,
   "metadata": {},
   "outputs": [],
   "source": [
    "def V_B_est(N, D):\n",
    "    x = np.random.rand(N, D)*2-1\n",
    "\n",
    "    is_x_in_B = np.sum(x**2, axis=1)<1\n",
    "\n",
    "    x_in_B_count = np.sum(is_x_in_B)\n",
    "\n",
    "    p_x_in_B = x_in_B_count / N\n",
    "\n",
    "    V_Omega = 2 ** D\n",
    "\n",
    "    V_B_estimated = p_x_in_B * V_Omega\n",
    "    \n",
    "    return V_B_estimated"
   ]
  },
  {
   "cell_type": "code",
   "execution_count": 4,
   "metadata": {},
   "outputs": [],
   "source": [
    "def V_B_analytic(D):\n",
    "    return np.power(np.pi, D/2) / scipy.special.gamma(D/2+1)"
   ]
  },
  {
   "cell_type": "code",
   "execution_count": 5,
   "metadata": {},
   "outputs": [],
   "source": [
    "def relative_error(estimated, exact):\n",
    "    return np.abs(estimated-exact)/exact"
   ]
  },
  {
   "cell_type": "code",
   "execution_count": 6,
   "metadata": {},
   "outputs": [],
   "source": [
    "def mean_square_dev(random_values):\n",
    "    mean_value = np.sum(random_values)/len(random_values)\n",
    "    for i in range(len(random_values)):\n",
    "        random_values[i]= random_values[i] - mean_value\n",
    "        random_values[i] = random_values[i]**2\n",
    "\n",
    "    return np.sqrt(np.sum(random_values)/len(random_values))"
   ]
  },
  {
   "cell_type": "code",
   "execution_count": 7,
   "metadata": {},
   "outputs": [
    {
     "name": "stdout",
     "output_type": "stream",
     "text": [
      "Exact volume 4.188790204786391\n",
      "Estimated volume 4.18984\n",
      "Relative error 0.0012199715279491222\n"
     ]
    }
   ],
   "source": [
    "N = 10**5\n",
    "D = 3\n",
    "\n",
    "print(\"Exact volume\", V_B_analytic(D))\n",
    "print(\"Estimated volume\", V_B_est(N, D))\n",
    "print(\"Relative error\", relative_error(V_B_est(N, D), V_B_analytic(D)))"
   ]
  },
  {
   "cell_type": "code",
   "execution_count": 8,
   "metadata": {},
   "outputs": [],
   "source": [
    "def func_1_n(x):\n",
    "    return 1 / np.sqrt(x)"
   ]
  },
  {
   "cell_type": "code",
   "execution_count": 9,
   "metadata": {},
   "outputs": [],
   "source": [
    "def square_error_plot(Sample_sizes, D, n_of_measurements):\n",
    "    counter = 0\n",
    "    rel_error_lst = np.array([[None]*n_of_measurements]*len(Sample_sizes))\n",
    "    for i in Sample_sizes:\n",
    "        for j in np.arange(n_of_measurements):\n",
    "            rel_error_lst[counter][j] = relative_error(V_B_est(i, D), V_B_analytic(D))\n",
    "        counter += 1\n",
    "    square_errors = np.array([mean_square_dev(rel_error_lst[k]) for k in range(len(Sample_sizes))])\n",
    "    \n",
    "    plt.loglog(Sample_sizes, square_errors, label = f'D = {D}')"
   ]
  },
  {
   "cell_type": "code",
   "execution_count": 12,
   "metadata": {},
   "outputs": [
    {
     "data": {
      "image/png": "[encoded data removed]",
      "text/plain": [
       "<Figure size 600x400 with 1 Axes>"
      ]
     },
     "metadata": {
      "needs_background": "light"
     },
     "output_type": "display_data"
    }
   ],
   "source": [
    "plt.figure(dpi=100)\n",
    "\n",
    "Sample_sizes = np.logspace(1, 6, num = 10, dtype=int)\n",
    "\n",
    "for i in range(2, 16, 2):\n",
    "    square_error_plot(Sample_sizes, i, 25)\n",
    "\n",
    "\n",
    "plt.loglog(Sample_sizes, func_1_n(Sample_sizes), 'black')\n",
    "plt.ylabel(\"$\\sigma$\")\n",
    "plt.xlabel(\"$N$\")\n",
    "plt.legend()\n",
    "plt.show()"
   ]
  },
  {
   "cell_type": "markdown",
   "metadata": {},
   "source": [
    "### Task 1.2-1.3\n",
    "\n",
    "##### Теоретически обоснуйте наблюдаемую зависимость средней квадратической ошибки от размера выборки."
   ]
  },
  {
   "cell_type": "markdown",
   "metadata": {},
   "source": [
    "Пусть $\\{x_1, ... , x_N\\}$ - $N$ случайных величин, распределенных в соответствии с распределением $p(x)$. Тогда среднее квадратическое отклонение случайной величины $f(x)$ можно оценить слудющим образом\n",
    "\n",
    "$$\\sigma_p(f)^2 \\approx \\frac{1}{N} \\sum\\limits_{i=1}^N f(x_i)^2 - M_N^2$$\n",
    "\n",
    "$M_i = \\frac{1}{i} \\sum\\limits_{i=1}^N f(x_i)$ - среднее значение выборки из $i$ элементов\n",
    "\n",
    "$\\{M_1, ... , M_N\\}$ - набор средних значений выборок, состоящих из $1, 2 ... N$ первых элементов выборки\n",
    "\n",
    "Оценим среднее квадратическую ошибку среднего значения выборки, считая его случайной величиной\n",
    "\n",
    "$$\\sigma(M_N)^2 = \\frac{1}{N} \\sum\\limits_{i=1}^N M_i^2 - \\frac{1}{N^2} \\big( \\sum\\limits_{i=1}^N M_i \\big)^2 = \\frac{1}{N}\\big[ \\frac{1}{N} \\sum\\limits_{i=1}^N \\frac{1}{i^2} \\big( \\sum\\limits_{p=1}^i f(x_p) \\big)^2 - \\frac{1}{N}\\big( \\sum\\limits_{i=1}^N M_i \\big)^2 \\big] \\leq $$\n",
    "\n",
    "$$\\leq \\frac{1}{N}\\big[ \\frac{1}{N} \\sum\\limits_{i=1}^N f(x_i)^2 - \\frac{1}{N}\\big( \\sum\\limits_{i=1}^N M_i \\big)^2 \\big]$$\n",
    "\n",
    "С учетом $\\frac{1}{N}\\big( \\sum\\limits_{i=1}^N M_i \\big)^2 \\leq \\frac{1}{N}\\big( \\sum\\limits_{i=1}^N M_i^2 \\big) \\sim \\frac{N M_N^2}{N} \\sim M_N^2$ получаем\n",
    "\n",
    "$$\\sigma(M_N)^2 \\leq  \\frac{1}{N} \\big[ \\frac{1}{N} \\sum\\limits_{i=1}^N f(x_i)^2 - M_N^2 \\big] = \\frac{\\sigma_p(f)^2}{N}$$\n",
    "\n",
    "\n",
    "Таким образом, получили, что средняя квадратическая ошибка $\\sigma(M_N) \\sim \\frac{1}{\\sqrt{N}}$"
   ]
  },
  {
   "cell_type": "markdown",
   "metadata": {},
   "source": [
    "### Task 1.4\n",
    "\n",
    "##### Сравните ошибку метода Монте-Карло с результатами лабораторной про квадратурные формулы. Для каких размерностей $𝐷$ метод Монте-Карло оказывается точнее, чем вычисление через произведение составных формул Симпсона по каждой из координат?"
   ]
  },
  {
   "cell_type": "code",
   "execution_count": 13,
   "metadata": {},
   "outputs": [],
   "source": [
    "def hi_2d(x, y):\n",
    "    if x**2 + y**2 <= 1:\n",
    "        return 1\n",
    "    else:\n",
    "        return 0"
   ]
  },
  {
   "cell_type": "code",
   "execution_count": 14,
   "metadata": {},
   "outputs": [
    {
     "name": "stdout",
     "output_type": "stream",
     "text": [
      "3.14104\n"
     ]
    }
   ],
   "source": [
    "def trapezoid_2d(func, a, b, c, d, N):\n",
    "    H = (b - a) / N    # Задаём длину шага H при числе отрезков разбиения N\n",
    "    summa = 0\n",
    "    for j in np.arange(1, N + 1):\n",
    "        for i in np.arange(1, N + 1):\n",
    "            summa += 0.25*(func(a + (i-1)*H, c + (j-1)*H) + func(a + i*H, c + (j-1)*H) + func(a + (i-1)*H, c + j*H) + func(a + i*H, c + j*H))\n",
    "\n",
    "    return summa*H**2\n",
    "\n",
    "print(trapezoid_2d(hi_2d, -1, 1, -1, 1, 500))"
   ]
  },
  {
   "cell_type": "code",
   "execution_count": 16,
   "metadata": {},
   "outputs": [
    {
     "name": "stdout",
     "output_type": "stream",
     "text": [
      "3.1331555555555535\n"
     ]
    }
   ],
   "source": [
    "def simpson_2d(f, a, b, c, d, N):\n",
    "    H = (b - a) / N # Задаём длину шага H при числе отрезков разбиения N\n",
    "    h = H/2\n",
    "    summa = 0\n",
    "    for j in np.arange(0, N):\n",
    "        for i in np.arange(0, N):\n",
    "#             summa += (f(a+(i-1)*H, c+(j-1)*H)+4*f(a+(i-1)*H, c+j*H/2)+f(a+(i-1)*H, c+j*H)+4*f(a+i*H/2, c+(j-1)*H)+16*f(a+i*H/2, c+j*H/2)+4*f(a+i*h/2, c+j*H)+f(a+i*H, c+(j-1)*H)+4*f(a+i*H, c+j*H/2)+f(a+i*H, c+j*H))/36\n",
    "            summa += (f(a+2*i*H, c+2*j*H)+4*f(a+(2*i+1)*H, c+2*j*H)+f(a+(2*i+2)*H, c+2*j*H)+4*f(a+2*i*H, c+(2*j+1)*H)+16*f(a+(2*i+1)*H, c+(2*j+1)*H)+4*f(a+(2*i+2)*H, c+(2*j+1)*H)+f(a+2*i*H, c+(2*j+2)*H)+4*f(a+(2*i+1)*H, c+(2*j+2)*H)+f(a+(2*i+2)*H, c+(2*j+2)*H))/9\n",
    "    return summa*(H**2)\n",
    "\n",
    "print(simpson_2d(hi_2d, -1, 1, -1, 1, 50))"
   ]
  },
  {
   "cell_type": "code",
   "execution_count": 17,
   "metadata": {},
   "outputs": [],
   "source": [
    "# N=1000\n",
    "# step=100\n",
    "# n = [1]\n",
    "\n",
    "N_lst =  np.logspace(0, 3, num = 10, dtype=int)\n",
    "\n",
    "f_trap = [] \n",
    "f_simpson = []\n",
    "\n",
    "# f_trap.append(trapezoid_2d(hi_2d, -1, 1, -1, 1, 1))\n",
    "# f_simpson.append(simpson_2d(hi_2d, -1, 1, -1, 1, 1))\n",
    "\n",
    "for i in N_lst:\n",
    "    f_trap.append(relative_error(trapezoid_2d(hi_2d, -1, 1, -1, 1, i), np.pi))\n",
    "\n",
    "    f_simpson.append(relative_error(simpson_2d(hi_2d, -1, 1, -1, 1, i), np.pi))\n",
    "    "
   ]
  },
  {
   "cell_type": "code",
   "execution_count": 84,
   "metadata": {},
   "outputs": [
    {
     "data": {
      "image/png": "[encoded data removed]",
      "text/plain": [
       "<Figure size 432x288 with 1 Axes>"
      ]
     },
     "metadata": {
      "needs_background": "light"
     },
     "output_type": "display_data"
    }
   ],
   "source": [
    "plt.plot(N_lst**2, f_simpson, '.r', label=\"simpson\")\n",
    "plt.plot(N_lst**2, f_trap, '.k', label=\"trapezoid\")\n",
    "\n",
    "square_error_plot(N_lst**2, 2, 100)\n",
    "\n",
    "plt.yscale('log')\n",
    "plt.xscale('log')\n",
    "\n",
    "plt.ylabel(\"Ошибка\")\n",
    "plt.xlabel(\"Число узловых точек\")\n",
    "\n",
    "plt.legend()\n",
    "\n",
    "plt.show()"
   ]
  },
  {
   "cell_type": "code",
   "execution_count": 91,
   "metadata": {},
   "outputs": [],
   "source": [
    "def sigma(D=4, N=10):\n",
    "    return 1/np.sqrt(N)*np.sqrt(np.pi**(D/2)/gamma(D/2 + 1) * (2**D - np.pi**(D/2)/gamma(D/2 + 1)))"
   ]
  },
  {
   "cell_type": "code",
   "execution_count": 95,
   "metadata": {},
   "outputs": [],
   "source": [
    "def sigma_on_D(N=10**5, dim=6, n_of_measurements=100):\n",
    "    rel_error_lst = np.array([None]*n_of_measurements)\n",
    "    for j in np.arange(n_of_measurements):\n",
    "        rel_error_lst[j] = relative_error(V_B_est(N, dim), V_B_analytic(dim))\n",
    "    return mean_square_dev(rel_error_lst)\n",
    "    "
   ]
  },
  {
   "cell_type": "code",
   "execution_count": 98,
   "metadata": {},
   "outputs": [
    {
     "data": {
      "image/png": "[encoded data removed]",
      "text/plain": [
       "<Figure size 432x288 with 1 Axes>"
      ]
     },
     "metadata": {
      "needs_background": "light"
     },
     "output_type": "display_data"
    }
   ],
   "source": [
    "dims = list(range(3, 17))\n",
    "square_errors_on_D = [None]*len(dims)\n",
    "\n",
    "N = 10**3\n",
    "\n",
    "sigma_theory = [None]*len(dims)\n",
    "\n",
    "for i in range(len(dims)):\n",
    "    sigma_theory[i] = sigma(D=dims[i], N = N)\n",
    "    square_errors_on_D[i] = sigma_on_D(N=N, dim=dims[i], n_of_measurements=10000)\n",
    "    \n",
    "plt.plot(dims, sigma_theory, label=r'$\\sigma_{theory}$')\n",
    "plt.plot(dims, square_errors_on_D, label=\"$\\sigma(D)$\")\n",
    "plt.yscale('log')\n",
    "plt.xlabel('D')\n",
    "plt.ylabel(r'$\\sigma$')\n",
    "plt.title(f'СКО в зависимости от размерности при N={N}')\n",
    "plt.legend()\n",
    "plt.grid()"
   ]
  },
  {
   "cell_type": "markdown",
   "metadata": {},
   "source": [
    "При достаточно высоких размерностях пространства при использовании метода Симпсона приходится разбивать отрезки на достаточно небольшие интервалы, так как количество точек растет по закону $N^D$, где $N$ - количество отрезков вдоль одной из осей, $D$ - размерность пространства. Иначе получение ответа таким методом будет занимать очень большое время, а погрешность вычислений расти с убыванеием $N$. Поэтому при больших размерностях пространства разумнее использовать метод Монте-Карло, так как его ошибка убывает по закону $\\frac{1}{\\sqrt{N}}$."
   ]
  },
  {
   "cell_type": "markdown",
   "metadata": {},
   "source": [
    "# Уменьшение ошибки метода Монте-Карло\n",
    "\n",
    "Предположим мы хотим вычислить интеграл\n",
    "\n",
    "$$I=\\int_{\\Omega} f(x)dx,$$\n",
    "\n",
    "методом Монте-Карло, для этого мы представляем его в виде среднего математического величины $f(x)/p(x)$,\n",
    "на плотности распределения $p$:\n",
    "\n",
    "$$\n",
    "I = E_p[f/p] = \\int_{\\Omega}\\frac{f(x)}{p(x)}p(x)dx.\n",
    "$$\n",
    "\n",
    "Пусть $x_n$ выборка случайной величины $X$ с плотностью $p$, тогда \n",
    "$$\n",
    "I\\approx M_N=\\frac{1}{N}\\sum_{n=1}^N \\frac{f(x_n)}{p(x_n)}.\n",
    "$$\n",
    "Дисперсия $M_N$ выражает меру ошибки:\n",
    "$$\n",
    "\\sigma(M_N)^2 = \\frac{1}{N}\\sigma_p(f/p)^2=\\frac{1}{N}\\int_{\\Omega} \\left(\\frac{f(x)}{p(x)}-I\\right)^2 p(x)dx.\n",
    "$$\n",
    "Можно видеть, что хотя для всех $p$ среднее значение $M_N$ совпадает с искомым интегралом $I$,\n",
    "величина ошибка существенно зависит от выбора $p$.\n",
    "Идельным является выбор $p$ пропорциональным функии $f$, но генерация произвольного распределения само по себе является сложной задачей.\n",
    "Поэтому на практике желательно выбирать известное распределение, имеющую плотность как можно более близко повторяющую $f$.\n",
    "Данный метод является вариацией [выборки по значимости](http://ru.wikipedia.org/wiki/Выборка_по_значимости)."
   ]
  },
  {
   "cell_type": "markdown",
   "metadata": {},
   "source": [
    "Попробуем улучшить точность вычислений объема шара, отталкиваясь от более естественного распределения, чем равномерное на кубе.\n",
    "Наш предыдущий подход давал точный ответ для $D=1$. \n",
    "Теперь мы будем опираться на известное нам значение площади круга, и получим метод, дающий точный ответ для $D=2$.\n",
    "Заметим, что если мы имеем пару случайных величин $\\mu$, $\\nu$, равномерно распределенных на интервале $[0,1]$,\n",
    "то мы можем получить случайную точку $(x,y)$, равномерно распределенную на круге $x^2+y^2\\leq 1$:\n",
    "$$\n",
    "\\begin{cases}\n",
    "x=r\\cos\\phi,\\\\\n",
    "y=r\\sin\\phi,\\\\\n",
    "\\end{cases}\n",
    "\\begin{cases}\n",
    "\\phi=2\\pi\\mu,\\\\\n",
    "r=\\sqrt{\\nu}.\\\\\n",
    "\\end{cases}\n",
    "$$\n",
    "Плотность распределения для $(x,y)$ равна \n",
    "$$\n",
    "p(x,y)=\\frac{1}{\\pi}\\theta(x^2+y^2),\\quad\n",
    "\\theta(a)=\\begin{cases}1,& a<1\\\\0,&\\text{в противном случае}\\end{cases}\n",
    "$$\n",
    "Идеальным распределением для вычисления обьема многомерного шара было бы равномерное распределение на этом шаре.\n",
    "В качестве приближения этого распределения мы берем произведение равномерных распределений на кругах:\n",
    "$$\n",
    "p(x)=p(x_1,x_2)p(x_3,x_4)\\cdots\n",
    "$$"
   ]
  },
  {
   "cell_type": "code",
   "execution_count": null,
   "metadata": {},
   "outputs": [],
   "source": [
    "# Сгенерируем приближенное распределение\n",
    "DHalf = int(D/2)\n",
    "phi = 2*np.pi*np.random.rand(N, DHalf)\n",
    "r = np.sqrt(np.random.rand(N, DHalf))\n",
    "x = np.empty((N,D))\n",
    "x[:,:2*DHalf:2]  = r*np.cos(phi)\n",
    "x[:,1:2*DHalf:2] = r*np.sin(phi)\n",
    "if D%2==1: x[:,-1] = np.random.rand(N)*2-1\n",
    "# Вычисляем плотность распределения\n",
    "p = np.power(np.pi, -DHalf)\n",
    "if D%2==1: p /= 2\n",
    "# Вычисляем величину f/p\n",
    "f = np.array(np.sum(x**2, axis=1)<1, dtype=np.float)\n",
    "f_over_p = f / p\n",
    "# Вычисляем интеграл\n",
    "V_B_second = np.mean(f_over_p)\n",
    "# Вычисляем ошибку\n",
    "V_B_analytic = np.power(np.pi, D/2) / scipy.special.gamma(D/2+1)\n",
    "print(\"Exact volume\", V_B_analytic)\n",
    "print(\"Estimated volume\", V_B_second)\n",
    "print(\"Relative error\", (V_B_second-V_B_analytic)/V_B_analytic)\n"
   ]
  },
  {
   "cell_type": "markdown",
   "metadata": {},
   "source": [
    "## Задания:\n",
    "\n",
    "1. Постройте график средней ошибки от размера выборки. Сравните с ошибкой прошлой попытки.\n",
    "\n",
    "1. Теоретически оцените величину уменьшения ошибки при переходе ко второму методу.\n",
    "\n",
    "1. Предложите свой способ уменьшения вариации оценки обьема шара по методу Монте-Карло.\n",
    "\n",
    "## Замечание:\n",
    "\n",
    "В методы выше тяжело было найти плотность распределения $p$, сгенерировать выборку величины с данным распределением часто проще.\n",
    "Например, равномерное распределение на шаре $B$ можно получить из выборки $X_k$ равномерно распределенной на кубе $\\Omega$ случайной величины,\n",
    "отбрасывая все точки $X_k$, не лежащие в $B$, что является частным случаем метода [алгоритма Метрополиса-Гастингса](http://ru.wikipedia.org/wiki/Алгоритм_Метрополиса_—_Гастингса). Оказывается в ряде случаев достаточно уметь строить выборку для решения содержательных задач, как показано в следующем разделе."
   ]
  },
  {
   "cell_type": "markdown",
   "metadata": {},
   "source": [
    "### Task 2.1\n",
    "\n",
    "##### Постройте график средней ошибки от размера выборки. Сравните с ошибкой прошлой попытки."
   ]
  },
  {
   "cell_type": "code",
   "execution_count": 81,
   "metadata": {},
   "outputs": [
    {
     "name": "stdout",
     "output_type": "stream",
     "text": [
      "Exact volume 3.141592653589793\n",
      "Estimated volume 3.141592653589794\n",
      "Relative error 2.8271597168564594e-16\n"
     ]
    }
   ],
   "source": [
    "def V_B_est_second(N, D):\n",
    "    DHalf = int(D/2)\n",
    "    phi = 2*np.pi*np.random.rand(N, DHalf)\n",
    "    r = np.sqrt(np.random.rand(N, DHalf))\n",
    "    x = np.empty((N,D))\n",
    "    x[:,:2*DHalf:2]  = r*np.cos(phi)\n",
    "    x[:,1:2*DHalf:2] = r*np.sin(phi)\n",
    "    if D%2==1: x[:,-1] = np.random.rand(N)*2-1\n",
    "    # Вычисляем плотность распределения\n",
    "    p = np.power(np.pi, -DHalf)\n",
    "    if D%2==1: p /= 2\n",
    "    # Вычисляем величину f/p\n",
    "    f = np.array(np.sum(x**2, axis=1)<1, dtype=np.float)\n",
    "    f_over_p = f / p\n",
    "    # Вычисляем интеграл\n",
    "    V_B_second = np.mean(f_over_p)\n",
    "    \n",
    "    return V_B_second\n",
    "\n",
    "print(\"Exact volume\", np.pi)\n",
    "print(\"Estimated volume\", V_B_est_second(10**4, 2))\n",
    "print(\"Relative error\", np.abs(V_B_est_second(10**4, 2)-np.pi)/np.pi)"
   ]
  },
  {
   "cell_type": "code",
   "execution_count": 82,
   "metadata": {},
   "outputs": [],
   "source": [
    "def second_square_error_plot(Sample_sizes, D, n_of_measurements):\n",
    "    counter = 0\n",
    "    rel_error_lst = np.array([[None]*n_of_measurements]*len(Sample_sizes))\n",
    "    for i in Sample_sizes:\n",
    "        for j in np.arange(n_of_measurements):\n",
    "            rel_error_lst[counter][j] = relative_error(V_B_est_second(i, D), V_B_analytic(D))\n",
    "        counter += 1\n",
    "    square_errors = np.array([mean_square_dev(rel_error_lst[k]) for k in range(len(Sample_sizes))])\n",
    "    \n",
    "    plt.loglog(Sample_sizes, square_errors, label = f'D_second = {D}')"
   ]
  },
  {
   "cell_type": "code",
   "execution_count": 83,
   "metadata": {},
   "outputs": [
    {
     "data": {
      "image/png": "[encoded data removed]",
      "text/plain": [
       "<Figure size 600x400 with 1 Axes>"
      ]
     },
     "metadata": {
      "needs_background": "light"
     },
     "output_type": "display_data"
    }
   ],
   "source": [
    "plt.figure(dpi=100)\n",
    "\n",
    "for i in range(3, 16, 4):\n",
    "    second_square_error_plot(Sample_sizes, i, 25)\n",
    "    square_error_plot(Sample_sizes, i, 25)\n",
    "\n",
    "N_values = np.logspace(4, 6, num = 10, dtype=int)\n",
    "\n",
    "# plt.loglog(N_values, func_1_n(N_values), 'black')\n",
    "plt.ylabel(\"$\\sigma$\")\n",
    "plt.xlabel(\"$N$\")\n",
    "plt.legend()\n",
    "plt.show()"
   ]
  },
  {
   "cell_type": "markdown",
   "metadata": {},
   "source": [
    "### Task 2.2\n",
    "\n",
    "##### Теоретически оцените величину уменьшения ошибки при переходе ко второму методу."
   ]
  },
  {
   "cell_type": "markdown",
   "metadata": {},
   "source": [
    "$${\\sigma}[M_N]^2 = {\\sigma}\\left[\\dfrac{1}{N} \\sum\\limits_{n=1}^N \\frac{f(x_n)}{p(x_n)}\\right]^2 = \\dfrac{1}{N^2} {\\sigma}\\left[ \\sum\\limits_{n=1}^N \\frac{f(x_n)}{p(x_n)}\\right]^2 = \\dfrac{1}{N^2}  \\sum\\limits_{n=1}^N {\\sigma}\\left[\\frac{f(x_n)}{p(x_n)}\\right]^2 = \\dfrac{1}{N^2}  \\sum\\limits_{n=1}^N {\\sigma_p}\\left[f\\right]^2 = \\dfrac{{\\sigma_p}[f/p]^2}{N}  $$"
   ]
  },
  {
   "cell_type": "markdown",
   "metadata": {},
   "source": [
    "### Task 2.3\n",
    "\n",
    "##### Предложите свой способ уменьшения вариации оценки обьема шара по методу Монте-Карло."
   ]
  },
  {
   "cell_type": "markdown",
   "metadata": {},
   "source": [
    "Вместо равномерного распределения использовать нормальное"
   ]
  },
  {
   "cell_type": "markdown",
   "metadata": {},
   "source": [
    "# Модель Изинга\n",
    "\n",
    "[Модель Изинга](https://en.wikipedia.org/wiki/Ising_model) является одной из самых простых моделей ферромагнетиков в статистической физике.\n",
    "Ферромагнетик в этой модели описывается системой случайных величин $\\sigma_n$, принимающих значения $\\pm 1$,\n",
    "соответстующих двум противоположным направлениям магнитного момента отдельного атома $n$.\n",
    "Обычно атомы считаются оргинзованными в некоторую кристаллическую решетку, \n",
    "в самом простом случае, который мы будем обсуждать ниже, атомы образуют цепочку, т.е. $n\\in\\mathbb Z$.\n",
    "Энергия системы включает в себя вклады обмена и взаимодействия с внешним магнитным полем $h_j$:\n",
    "$$H[\\sigma] = -\\sum_{<i,j>}J_{ij}\\sigma_i\\sigma_j-\\mu\\sum_i H_j\\sigma_j,$$\n",
    "где $J_{ij}$ суть константы обмена между парой атомов $\\langle i,j\\rangle$,\n",
    "каждая пара атомов в сумме присутствует один раз,\n",
    "$\\mu$ - величина магнитного момента атома.\n",
    "Вероятность реализации каждого состояниия подчинена распределению Больцмана:\n",
    "$$\n",
    "P_\\beta(\\sigma)=Z_\\beta^{-1}e^{-\\beta H[\\sigma]},\n",
    "$$\n",
    "где $\\beta=(k_BT)^{-1}$, и статистическая сумма определена следующей суммой по всем состояниям $\\sigma$:\n",
    "$$\n",
    "Z_\\beta = \\sum_\\sigma e^{-\\beta H[\\sigma]}.\n",
    "$$\n",
    "Вместо бесконечной цепочки, мы будем рассматривать цепочку из $L$ атомов, концы которой соединены между собой,\n",
    "т.е. заданы периодические граничные условия.\n",
    "Мы будем использовать самый простой вариант модели, считая (1) внешнее поле однородным  $h_j=h\\forall j$,\n",
    "(2) обмен ненулевым только для блищайших соседей и независящим от положения атомов на цепочке:\n",
    "$J_{j,j+1}=J>0\\forall j$.\n",
    "\n",
    "При анализе модели наибольший интерес представляет свободная энергия Гельмгольца\n",
    "$$F=-k_BT\\ln Z.$$\n",
    "В одномерном случае она может быть найдена явно.\n",
    "Действительно, \n",
    "$$Z_\\beta=\\sum_{\\sigma_1}\\cdots\\sum_{\\sigma_L}\\prod_{n=1}^{N-1}T_{\\sigma_n,\\sigma_{n+1}},$$\n",
    "где \n",
    "$$T_{\\sigma,\\sigma'}=\\exp\\left(\\beta J\\sigma\\sigma'+\\frac{\\mu h}{2}(\\sigma+\\sigma')\\right).$$\n",
    "Если считать $\\sigma=-1,1$ индексами матрицы\n",
    "$$T=\\begin{pmatrix}T_{-1,-1} & T_{-1,1}\\\\ T_{1,-1} & T_{1,1}\\end{pmatrix}\n",
    "=\\begin{pmatrix}e^{\\beta J-\\beta\\mu h} & e^{-\\beta J}\\\\ e^{-\\beta J} & e^{\\beta J+\\beta\\mu h}\\end{pmatrix},$$\n",
    "то стат. сумму можно записать в матричном виде:\n",
    "$$Z_\\beta=\\mathrm{Tr}\\,T^N=\\lambda_+^N+\\lambda_{-}^N,$$\n",
    "где $\\lambda_\\pm$ суть собственные значения матрицы $T$.\n",
    "Известно довольно мало других решений для модели Изинга, поэтому представляет интерес численный расчет свободной энергии."
   ]
  },
  {
   "cell_type": "markdown",
   "metadata": {},
   "source": [
    "Вычисление стат. суммы в данном случае заключается в суммировании $2^L$ слагаемых, что может быть сделано явно.\n",
    "Однако с ростом числа спинов $L$ время работы растет экспоненциально, что делает прямое суммирование применимым только для малых систем.\n",
    "Поэтому стат. суммы часто считают методами Монте-Карло.\n",
    "Выше мы вычисляли интеграл с помощью Монте-Карло, однако метод с таким же успехом может использоваться и для сумм.\n",
    "Так в простейшем варианте мы можем зафиксировать семейство случайных величин $s_n$, принимающих значения $-1$ и $1$ с одинаковой вероятностью.\n",
    "Тогда стат. сумму можно выразить через среднее значение на равномерном распределении:\n",
    "$$Z_\\beta = 2^L E[e^{-\\beta H[s]}|\\text{uniform distribution}] \\approx \\frac{2^L}{N}\\sum_{k=1}^N \\exp\\big(-\\beta H[s^{(k)}]\\big),$$\n",
    "где $s^{(k)}$ выборка состояний системы, равномерно распределеных на всем пространстве состояний.\n",
    "Разброс оценок стат. суммы этим методом можно оценить через дисперсию случайной величины $e^{-\\beta H[s]}$ на равномерном распределении (см. задания ниже):\n",
    "$$\n",
    "D = D[2^L e^{-\\beta H[s]}] = E[2^{2L} e^{-2\\beta H[s]}] - E[2^L e^{-\\beta H[s]}]^2\n",
    "= 2^L Z_{2\\beta}-Z_{\\beta}^2.\n",
    "$$"
   ]
  },
  {
   "cell_type": "code",
   "execution_count": null,
   "metadata": {},
   "outputs": [],
   "source": [
    "from dataclasses import dataclass\n",
    "\n",
    "# Объект типа dataclass: https://docs.python.org/3/library/dataclasses.html\n",
    "# В нем мы будем хранить параметры системы.\n",
    "@dataclass\n",
    "class Ising:\n",
    "    J: float # Константа обмена\n",
    "    muh: float # Магнитная индукция \n",
    "    L: int # Число спинов\n",
    "    def energy(self, state):\n",
    "        \"\"\"\"Энергия состояния `state`\"\"\"\n",
    "        return -model.J*np.sum(state*np.roll(state, 1, axis=-1), axis=-1)-model.muh*np.sum(state, axis=-1)\n",
    "    def all_states(self):\n",
    "        \"\"\"Возвращает все состояния системы\"\"\"\n",
    "        # Для хранения одного спина можно было ограничиться одним битом, но для простоты мы будем хранить число со знаком.        \n",
    "        states = np.moveaxis( np.indices((2,)*model.L), 0, -1 ).reshape((2**model.L, model.L)).astype(np.int8)\n",
    "        return 2*states-1\n",
    "    def random_states_uni(self, n):\n",
    "        \"\"\"Возвращает `n` случайных значений.\"\"\"\n",
    "        return 2*np.random.randint(0, 2, n*model.L).reshape((n,model.L))-1\n",
    "        \n",
    "def partition_function_expl(model: Ising, beta: float) -> float:\n",
    "    \"\"\"Вычисляет стат. сумму одномерной модели Изинга по явной формуле.\"\"\"\n",
    "    ebj = np.exp(beta*model.J)\n",
    "    ebb = np.exp(beta*model.muh)\n",
    "    T = np.array([[ebj/ebb, 1/ebj], [1/ebj, ebj*ebb]])\n",
    "    lambdas = np.linalg.eigvalsh(T)\n",
    "    return np.sum(np.power(lambdas, model.L))\n",
    "\n",
    "def partition_function_direct(model: Ising, beta: float) -> float:\n",
    "    \"\"\"Вычисляет стат. сумму одномерной модели Изинга по определению.\"\"\"    \n",
    "    energy = model.energy(model.all_states())\n",
    "    return np.sum(np.exp(-beta*energy))\n",
    "\n",
    "def partition_function_mc(model: Ising, beta:float, nsamples:int) -> float:\n",
    "    \"\"\"Оценивает стат. сумму одномерной модели Изинга по Монте-Карло.\"\"\"\n",
    "    states = model.random_states_uni(nsamples)\n",
    "#     states = model.all_states()\n",
    "    energy = model.energy(states)\n",
    "    p = np.exp(-beta*energy)\n",
    "    return np.mean(p)*2**model.L\n",
    "\n",
    "\n",
    "model = Ising(J=1.0, muh=0.1, L=1)\n",
    "beta = 1.\n",
    "print(f\"Model {model} beta {beta}\")\n",
    "print(f\"(ln Z)/L =\")\n",
    "print(f\"  explicit   : {np.log(partition_function_expl(model, beta))/model.L}\")\n",
    "if model.L<=20:\n",
    "    print(f\"  direct     : {np.log(partition_function_expl(model, beta))/model.L}\")\n",
    "nsamples = 10000\n",
    "print(f\"  Monte-Carlo: {np.log(partition_function_mc(model, beta, nsamples))/model.L} #samples {nsamples}\")    \n",
    "    "
   ]
  },
  {
   "cell_type": "markdown",
   "metadata": {},
   "source": [
    "## Задания.\n",
    "\n",
    "1. Оцените точность вычисления $Z_\\beta$ через собственные значения матрицы $T$. Как ведет себя погрешность при $\\beta\\to 0$,\n",
    "$\\beta\\to\\infty$ и $L\\to\\infty$? Для оценки погрешностей собственных значений матрицы удобно воспользоваться [теоремой Бауэра-Фике](https://en.wikipedia.org/wiki/Bauer%E2%80%93Fike_theorem).\n",
    "\n",
    "1. Найдите узкие места в реализации вычисления стат. суммы прямым суммированием: как растет использование памяти с размером задачи, какие вычисления проводяться повторно? Предложите оптимизацию функции `partition_function_direct`. Для какого максимального размера системы можно на практике использовать эту функцию?\n",
    "\n",
    "1. Вычислите стат. сумму методом Монте-Карло с равномерно и независимо распределенными случайными величинами $s$. Оцените скорость сходимости метода. Для относительной погрешности $10^{-5}$ оцените число спинов, начиная с которого метод Монте-Карло оказывается предпочтительнее прямого суммирования, если стоимость вычислений измерять в числе вызовов функции энергии $H$. \n",
    "\n",
    "1. Найдите плотность состояний с помощью [алгоритма Ванга-Ландау](https://en.wikipedia.org/wiki/Wang_and_Landau_algorithm). Найдите стат. сумму, используя плотность состояний. Сравните результат с результатом методе Монте-Карло из предыдущего пункта. Можно ли вычислить стат. сумму методом Метрополиса-Гастингса? Какой из методов дает лучший результат?\n",
    "\n",
    "1. Постройте график зависимости средней энергии от константы связи $J$, используя (1) найденную численно оценку для стат. суммы, (2) плотность состояний из метода Ванга-Ландау. Сравните с теорией. Что удается найти точнее: среднюю энергию или стат. сумму? \n",
    "\n",
    "1. Постройте тот же график без вычисления стат. суммы, опираясь только на метод [Метрополиса-Гастингса](http://ru.wikipedia.org/wiki/Алгоритм_Метрополиса_—_Гастингса) для генерирования выборки состояний $\\sigma$, подчиненных распределению Больцмана.\n",
    "\n",
    "1. Постройте график зависимости намагниченности от приложенного поля, используя связь стат. суммы и намагниченности:\n",
    "$$M=\\frac{\\partial \\ln Z}{\\partial \\mu h},$$\n",
    "и сравните с расчетом намагниченности (как суммы магнитных моментов всех атомов) по алгоритму Метрополиса-Гастингса.\n",
    "\n",
    "1. В модели с цепочкой не наблюдается фазового перехода, однако на двухмерной решетке есть фазовый переход по температуре. \n",
    "Постройте график зависимости средней намагниченности от температуры для двухмерной решетки спинов.\n",
    "Найдите критическое значение температуры. Опишите состояния при температуре ниже и выше критической."
   ]
  },
  {
   "cell_type": "markdown",
   "metadata": {},
   "source": [
    "### Подсказка\n",
    "\n",
    "Алгоритм Ванга-Ландау выполняет случайное блуждание по состояниям подобно алгоритму Метрополиса-Гастингса, однако он посещает все подмножества постоянной энергии с одинаковой вероятностью, т.е. он генерирует выборку состояний равномерную по энергии. Так как равномерная выборка возможно только на множестве конечной меры, то в случае не ограниченной энергии системы посещаться будет только заданный интервал энергий. В случае модели Изинга число состояний конечно и мы будем блуждать по всем состояниям. \n",
    "\n",
    "Для распределения Больцмана плотность вероятности распределения по состояниям имеет вид $Z^{-1}e^{-\\frac{E[s]}{k_BT}}ds$.\n",
    "Домножив на экспоненту с плюсом мы можем получить равномерное распределение $ds$ по всем состояниям $s$.\n",
    "Нас однако интересует равномерное распределение по энергиям, которое можно задать с помощью [плотности состояний](https://https://en.wikipedia.org/wiki/Density_of_states) $D(E)$, которая грубо говоря равна отношению числа состояний обладающих заданной энергией к общему числу состояний. \n",
    "Равномерное по энергиям распределение имеет вид $D(E(s))ds = dE$,\n",
    "где плотность состояний нормирована на единицу\n",
    "$\\int_{\\mathbb R}D(E)dE=1$.\n",
    "Для приближения этого распределения алгоритм Ванга-Ландау строит оценку плотности состояний, которая может затем быть использована для вычисления средних значений величин от энергии, включая стат. сумму:\n",
    "$$Z=\\int_{\\Omega} e^{\\frac{E[s]}{k_BT}}ds\n",
    "=\\int_{\\mathbb R}\\left(e^{\\frac{E}{k_BT}}\\int_{s\\colon E[s]=E}d\\,s\\right)dE\n",
    "=\\mathrm{vol}(\\Omega)\\int_{\\mathbb R}e^{\\frac{E}{k_BT}}D(E)dE.$$\n",
    "Пространство состояний в модели Изинга дискретное, его объем совпадает с числом различных состояний:\n",
    "$$\\mathrm{vol}(\\Omega)=2^L.$$"
   ]
  },
  {
   "cell_type": "code",
   "execution_count": null,
   "metadata": {},
   "outputs": [],
   "source": [
    "# Найдем плотность состояний перебором всех состояний.\n",
    "model = Ising(J=1.0, muh=0.1, L=20)\n",
    "all_energies = np.sort( model.energy(model.all_states()) ) # Массив всех возможных значений энергии.\n",
    "# plt.plot(all_energies,','); plt.show()\n",
    "# Группируем одинаковые элементы и считаем их количество\n",
    "from collections import Counter\n",
    "density_of_states = Counter(all_energies)\n",
    "# Извлекаем из счетчика отдельно массив энергию, отдельно число состояний для данной энергии.\n",
    "energy, number_of_states = np.array(list(density_of_states.items())).T\n",
    "# Строим график плотности состояний.\n",
    "plt.step(energy, number_of_states, '-', where='mid',)\n",
    "plt.plot(energy, number_of_states, '.')\n",
    "plt.xlabel(\"Energy\")\n",
    "plt.ylabel(\"Number of states\")\n",
    "plt.show()\n",
    "# Имея распределение состояний по энергиям сосчитаем стат. сумму.\n",
    "beta = .2  \n",
    "Z_dos = np.sum(number_of_states*np.exp(-beta*energy))\n",
    "Z_exp = partition_function_expl(model, beta) # стат. сумма через определение для сравнения\n",
    "print(f\"Z = {Z_dos} via DOS\")\n",
    "print(f\"Z = {Z_exp} by definition\")"
   ]
  },
  {
   "cell_type": "markdown",
   "metadata": {},
   "source": [
    "Алгоритм Ванга-Ландау (ВЛ) последовательно приближает плотность состояний $g(E)$ и является одним из эффективных способов ее оценивания. \n",
    "Алгоритм стартует со случайного состояния $s^0$ и некоторого приближения (чаще константного) для плотности состояний.\n",
    "На каждом шаге алгоритма строится новое случайное состояние $s^n$, которое принимается со вероятностью \n",
    "$P=\\min(1,\\frac{ g(E(s^{n-1})) }{ g(E(s^{n})) })$. \n",
    "Приближение плотности состояний обновляется на каждом шаге по формуле\n",
    "$g(E(s^n))\\mapsto g(E(s^n))\\cdot f$, где $f>1$ некий множитель.\n",
    "Для увеличения точности множитель $f$ время от времени тоже обновляется $f\\mapsto\\sqrt{f}$.\n",
    "Есть несколько законов для обновления $f$, чаще всего момент обновления определяется по достаточной равномерности гистограммы энергии посещенных состояний.\n",
    "На практике удобнее хранить логарифм плотности $S(E)=\\ln g(E)$, чтобы избежать переполнения.\n",
    "\n",
    "Подробное обсуждение алгоритма Ванга-Ландау можно найти в статье [arXiv:1808.09251](https://arxiv.org/pdf/1808.09251.pdf)."
   ]
  },
  {
   "cell_type": "code",
   "execution_count": null,
   "metadata": {},
   "outputs": [],
   "source": [
    "from collections import defaultdict\n",
    "# Простая реализация алгоритма Ванга-Ландау (число состояний считается для каждой энергии, без объединения в группы).\n",
    "def WangLandauAlgorithm(model:Ising, nsamples=None):\n",
    "    H = defaultdict(lambda: 0) # Хранилище для гистограммы.\n",
    "    g = defaultdict(lambda: 1.) # Хранилище для плотности состояний\n",
    "    f = 1.4 # Множитель для обновления числа состояний.\n",
    "    state = model.random_states_uni(1) # Начальное состояние\n",
    "    energy = model.energy(state)[0] # Энергия текущего состояния\n",
    "    H[energy] = H[energy] + 1\n",
    "    g[energy] = g[energy] * f\n",
    "    rejected = 0\n",
    "    for it in range(nsamples): # Делаем заданное число итераций.\n",
    "        # Генерируем новое состояние\n",
    "        candidate = model.random_states_uni(1) # Новое состояние.\n",
    "       \n",
    "        # Обычно новое состояние генерируется небольшим возмущением старого состояний `state`,\n",
    "        # так как в этом случае энергия меняется плавнее, и время пересчета энергии меньше.\n",
    "        # Например, это можно было делать так:\n",
    "#         candidate = state.copy()\n",
    "#         candidate[0, np.random.randint(model.L)] *= -1 \n",
    "        # Затем на нужно было бы реализовать функцию обновления энергия, учитывая изменение лишь одного спина.\n",
    "        \n",
    "        candidate_energy = model.energy(candidate)[0] # Считаем энергию нового состояния.\n",
    "        p = np.minimum(1., g[energy]/g[candidate_energy]) # Вероятность принятия состояния.\n",
    "        if np.random.random()<=p: #  Если состояние принято,\n",
    "            state = candidate # обновляем состояние.\n",
    "            energy = candidate_energy\n",
    "        else:\n",
    "            rejected += 1\n",
    "        H[energy] = H[energy] + 1\n",
    "        g[energy] = g[energy] * f\n",
    "        # Проверяем возможность обновления шага `f`.\n",
    "        vals=np.array(list(H.values()))\n",
    "        std, mean = np.std(vals), np.mean(vals)\n",
    "        if len(vals)>10 and std/mean<0.25:\n",
    "            print(f\"Restart {it = }: {f = }\")\n",
    "            f = np.sqrt(f) # Уменьшаем шаг.\n",
    "            H = defaultdict(lambda:0) # Обнуляем накопленные значения.\n",
    "    print(f\"Rejected states {rejected}/{nsamples}\")\n",
    "    # Перенормируем энтропию.\n",
    "    g_sum = np.sum(list(g.values()))\n",
    "    total_count_elements = 2**model.L\n",
    "    return { k: total_count_elements*s/g_sum for k,s in g.items() }"
   ]
  },
  {
   "cell_type": "code",
   "execution_count": null,
   "metadata": {},
   "outputs": [],
   "source": [
    "# Алгоритма Ванга-Ландау с группировкой энергий по группам.\n",
    "def WangLandauAlgorithmBins(model:Ising, nsamples=None, nbins=None):\n",
    "    # Максимальная возможная энергия.\n",
    "    maxE = model.L*(model.J+model.muh)\n",
    "    # Наименьшая возможная энергия.\n",
    "    minE = -maxE\n",
    "    def find_bin(e): # Находит столбец гистрограммы, в который попадает энергия.\n",
    "        return int(np.round((e-minE)/(maxE-minE)*nbins))\n",
    "    H = np.zeros(nbins) # Хранилище для гистограммы.\n",
    "    g = np.ones(nbins) # Хранилище для плотности состояний\n",
    "    f = 1.4 # Множитель для обновления числа состояний.\n",
    "    state = model.random_states_uni(1) # Начальное состояние\n",
    "    energy = model.energy(state)[0] # Энергия текущего состояния\n",
    "    energy_bin = find_bin(energy)\n",
    "    H[energy_bin] += 1\n",
    "    g[energy_bin] *= f\n",
    "    rejected = 0\n",
    "    for it in range(nsamples): # Делаем заданное число итераций.\n",
    "        # Генерируем новое состояние\n",
    "        candidate = model.random_states_uni(1) # Новое состояние.\n",
    "       \n",
    "        # Обычно новое состояние генерируется небольшим возмущением старого состояний `state`,\n",
    "        # так как в этом случае энергия меняется плавнее, и время пересчета энергии меньше.\n",
    "        # Например, это можно было делать так:\n",
    "#         candidate = state.copy()\n",
    "#         candidate[0, np.random.randint(model.L)] *= -1 \n",
    "        # Затем на нужно было бы реализовать функцию обновления энергия, учитывая изменение лишь одного спина.\n",
    "        \n",
    "        candidate_energy = model.energy(candidate)[0] # Считаем энергию нового состояния.\n",
    "        candidate_bin = find_bin(candidate_energy)\n",
    "        p = g[energy_bin]/g[candidate_bin] if g[candidate_bin]>g[energy_bin] else 1. # Вероятность принятия состояния.\n",
    "        if np.random.random()<=p: #  Если состояние принято,\n",
    "            state = candidate # обновляем состояние.\n",
    "            energy = candidate_energy\n",
    "            energy_bin = candidate_bin\n",
    "        else:\n",
    "            rejected += 1\n",
    "        H[energy_bin] += 1\n",
    "        g[energy_bin] *= f\n",
    "        # Проверяем возможность обновления шага `f`.\n",
    "        std, mean = np.std(H), np.mean(H)\n",
    "        if mean>10 and std<0.25*mean:\n",
    "            print(f\"Restart {it = }: {f = }\")\n",
    "            f = np.sqrt(f) # Уменьшаем шаг.\n",
    "            H[:] = 0 # Обнуляем гистограмму.\n",
    "    print(f\"Rejected states {rejected}/{nsamples}\")\n",
    "    # Перенормируем  число состояний.\n",
    "    g_sum = np.sum(g)\n",
    "    total_count_elements = 2**model.L\n",
    "    return np.linspace(minE, maxE, nbins), total_count_elements/g_sum*g "
   ]
  },
  {
   "cell_type": "code",
   "execution_count": null,
   "metadata": {},
   "outputs": [],
   "source": [
    "# Вычислим стат. сумму разными способами.\n",
    "# Делаем на порядки меньшее попыток, чем общее число состояний.\n",
    "nsamples = 2**model.L//1000\n",
    "density_of_states_wl = WangLandauAlgorithm(model, nsamples=nsamples)\n",
    "energy_wl, number_of_states_wl = np.array(list(density_of_states_wl.items())).T\n",
    "# В-Л с группировкой состояний.\n",
    "nbins = 100 # Число групп\n",
    "energy_wlb, number_of_states_wlb = WangLandauAlgorithmBins(model, nsamples=nsamples, nbins=nbins)\n",
    "\n",
    "# Группируем состояния\n",
    "def round_to_bin(x, rng): #  Находим для каждого x ближайший узел на равномерной решетке.\n",
    "    print(f\"{np.max(rng)=} {np.max(x)=}\")\n",
    "    return np.round( (x-rng[0])/(rng[-1]-rng[0])*(len(rng)-1) ).astype(np.int)\n",
    "def aggregate_to_bins(x, y, rng): # Складываем значения y, соответствующие одному значению x.\n",
    "    print(f\"aggregate_to_bins({x.shape=}, {y.shape=}, {rng.shape=})\")\n",
    "    n = round_to_bin(x, rng)\n",
    "    count = np.zeros(rng.shape, dtype=np.int)\n",
    "    for k, v in zip(n, y):\n",
    "        count[k] += v\n",
    "    return count\n",
    "number_of_states_wl_bins = aggregate_to_bins(energy_wl, number_of_states_wl, energy_wlb)\n",
    "number_of_states_bins = aggregate_to_bins(energy, number_of_states, energy_wlb)\n",
    "\n",
    "# Строим график плотности состояний.\n",
    "fig, ax1 = plt.subplots(1,1,figsize=(15,7))\n",
    "ax1.step(energy_wlb, number_of_states_bins, '-', where='mid', label='Exact')\n",
    "ax1.step(energy_wlb, number_of_states_wl_bins, '-', where='mid', label='Wang-Landau')\n",
    "ax1.step(energy_wlb, number_of_states_wlb, '-', where='mid', label='Wang-Landau+bins')\n",
    "ax1.set_xlabel(\"Energy\")\n",
    "ax1.set_ylabel(\"Number of states\")\n",
    "ax1.legend()\n",
    "plt.show()\n",
    "# Имея распределение состояний по энергиям сосчитаем стат. сумму.\n",
    "error = lambda Z: int(np.round(np.abs(Z-Z_exp)/Z_exp*100))\n",
    "print(f\"{error(Z_exp):>3}% Z = {Z_exp} by definition\")\n",
    "Z_wl= np.sum(number_of_states_wl*np.exp(-beta*energy_wl)) # Как среднее дискретной случайно величины.\n",
    "print(f\"{error(Z_wl):>3}% Z = {Z_wl} doing Wang-Landau\")\n",
    "# Интегрируем экспоненту по энергиям с весом, заданным плотностью состояний.\n",
    "integrand = number_of_states_wlb*np.exp(-beta*energy_wlb) # Подинтегральное выражение на dE.\n",
    "# Сначала по формуле трапеций:\n",
    "Z_wlb_trapz= np.sum(integrand)\n",
    "print(f\"{error(Z_wlb_trapz):>3}% Z = {Z_wlb_trapz} doing Wang-Landau + bins\")\n",
    "Z_mc = partition_function_mc(model, beta, nsamples)\n",
    "print(f\"{error(Z_mc):>3}% Z = {Z_mc} doing Monte-Carlo\")    "
   ]
  },
  {
   "cell_type": "markdown",
   "metadata": {},
   "source": [
    "## Задания:\n",
    "\n",
    "1. Убедитесь, что ваш код хорошо структуирован, в частности: (a) одни и те же действия не выполняются в разных частях кода; (б) все вычисления разбиты на функции, каждая из которых имеет четкое и понятное предназначение и легко читается; (с) все параметры указаны явно, каждый параметр задается ровно в одном месте."
   ]
  },
  {
   "cell_type": "code",
   "execution_count": null,
   "metadata": {},
   "outputs": [],
   "source": []
  }
 ],
 "metadata": {
  "kernelspec": {
   "display_name": "Python 3",
   "language": "python",
   "name": "python3"
  },
  "language_info": {
   "codemirror_mode": {
    "name": "ipython",
    "version": 3
   },
   "file_extension": ".py",
   "mimetype": "text/x-python",
   "name": "python",
   "nbconvert_exporter": "python",
   "pygments_lexer": "ipython3",
   "version": "3.8.3"
  }
 },
 "nbformat": 4,
 "nbformat_minor": 4
}
