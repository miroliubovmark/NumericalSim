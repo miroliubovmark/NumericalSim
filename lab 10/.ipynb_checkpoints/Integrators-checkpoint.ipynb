{
 "cells": [
  {
   "cell_type": "code",
   "execution_count": 1,
   "metadata": {},
   "outputs": [
    {
     "name": "stderr",
     "output_type": "stream",
     "text": [
      "In /home/mark/.local/lib/python3.6/site-packages/matplotlib/mpl-data/stylelib/_classic_test.mplstyle: \n",
      "The text.latex.preview rcparam was deprecated in Matplotlib 3.3 and will be removed two minor releases later.\n",
      "In /home/mark/.local/lib/python3.6/site-packages/matplotlib/mpl-data/stylelib/_classic_test.mplstyle: \n",
      "The mathtext.fallback_to_cm rcparam was deprecated in Matplotlib 3.3 and will be removed two minor releases later.\n",
      "In /home/mark/.local/lib/python3.6/site-packages/matplotlib/mpl-data/stylelib/_classic_test.mplstyle: Support for setting the 'mathtext.fallback_to_cm' rcParam is deprecated since 3.3 and will be removed two minor releases later; use 'mathtext.fallback : 'cm' instead.\n",
      "In /home/mark/.local/lib/python3.6/site-packages/matplotlib/mpl-data/stylelib/_classic_test.mplstyle: \n",
      "The validate_bool_maybe_none function was deprecated in Matplotlib 3.3 and will be removed two minor releases later.\n",
      "In /home/mark/.local/lib/python3.6/site-packages/matplotlib/mpl-data/stylelib/_classic_test.mplstyle: \n",
      "The savefig.jpeg_quality rcparam was deprecated in Matplotlib 3.3 and will be removed two minor releases later.\n",
      "In /home/mark/.local/lib/python3.6/site-packages/matplotlib/mpl-data/stylelib/_classic_test.mplstyle: \n",
      "The keymap.all_axes rcparam was deprecated in Matplotlib 3.3 and will be removed two minor releases later.\n",
      "In /home/mark/.local/lib/python3.6/site-packages/matplotlib/mpl-data/stylelib/_classic_test.mplstyle: \n",
      "The animation.avconv_path rcparam was deprecated in Matplotlib 3.3 and will be removed two minor releases later.\n",
      "In /home/mark/.local/lib/python3.6/site-packages/matplotlib/mpl-data/stylelib/_classic_test.mplstyle: \n",
      "The animation.avconv_args rcparam was deprecated in Matplotlib 3.3 and will be removed two minor releases later.\n"
     ]
    }
   ],
   "source": [
    "%matplotlib inline\n",
    "import numpy as np\n",
    "import matplotlib.pyplot as plt\n",
    "import matplotlib\n",
    "matplotlib.rc('font', family='DejaVu Sans')"
   ]
  },
  {
   "cell_type": "markdown",
   "metadata": {},
   "source": [
    "## Численное решение дифференциальных уравнений"
   ]
  },
  {
   "cell_type": "markdown",
   "metadata": {},
   "source": [
    "Дифференциальными называются функциональные уравнения (т.е. искомым является функция), содержащие кроме искомой функции также ее производные.\n",
    "Рассмотрим явное дифференциальное уравнение первого порядка, имеющее общий вид:\n",
    "$$y'(t)=f(t,y).$$\n",
    "Например, таковым явлется уравнение $y'(t)=y(t)$, явное решение которого известно: \n",
    "$y(t)=c\\cdot e^t$, где $c$ - константа интегрирования.\n",
    "Уже из примера видно, что чтобы получить единственное решение дифференциального уравнения первого порядка, \n",
    "нужно зафиксировать начальное условие,\n",
    "т.е. зафиксировать значение $y(0)$.\n",
    "Для нетривиальных диф. уравнений аналитическое решение в элементарных\n",
    "функциях обычно не существует. \n",
    "Однако решение можно найти приближенно, воспользовавшись методами\n",
    "численного интегрирования.\n",
    "Рассмотрим простейший метод численного интегрирования - [метод Эйлера](https://ru.wikipedia.org/wiki/%D0%9C%D0%B5%D1%82%D0%BE%D0%B4_%D0%AD%D0%B9%D0%BB%D0%B5%D1%80%D0%B0).\n",
    "\n",
    "Решения дифференциального уравнения являются дифференциируемыми функциями, поэтому для них справедливо следующее представление в малой окрестности каждой точки $t$:\n",
    "$$y(t+\\delta)=y(t)+\\delta y'(t)+o(\\delta),\\quad \\delta\\to0.$$\n",
    "Отбрасывая бесконечно малое, можно получить приближенную формулу,\n",
    "по которой можно находить значение в \"следующий\" момент времени,\n",
    "зная значение в \"предыдущий\" момент времени.\n",
    "При численном решении мы не можем найти решение во все моменты времени,\n",
    "вместо этого мы вычисляем значения решения в дискретные моменты времени\n",
    "$t_k$, которые мы считаем упорядоченными $t_k<t_{k+1}$.\n",
    "В простейшем случае можно считать приращении времени постоянным, тогда\n",
    "$t_k=t_0+\\Delta\\cdot k$, где $\\Delta$ - шаг времени, а $t_0$ - начальный момент времени.\n",
    "\n",
    "Зная значение функции и производной в момент времени $t_k$,\n",
    "можно найти приближенное значение решения в момент времени $t_{k+1}$:\n",
    "$$y_a(t_{k+1})=y_a(t_k)+(t_{k+1}-t_k)y_a'(t_k).$$\n",
    "Подставляя значение производной из дифференциального уравнения,\n",
    "получаем формулу нахождения решения по методу Эйлера:\n",
    "$$y_a(t_{k+1})=y_a(t_k)+(t_{k+1}-t_k)f(t_k,y_a(t_k)).$$\n",
    "Найденное таким образом решение $y_a(t)$ не совпадает с точным решением $y(t)$ уравнения.\n",
    "Если выбрать значение $y_a(t)$ совпадающим с $y(t)$, то \n",
    "величина $h(\\delta)=y_a(t+\\delta)-y(t+\\delta)$\n",
    "характеризует точность одного шага данного метода интегрирования.\n",
    "Точность методы выражаеют *порядком* метода, \n",
    "который выражает скорость уменьшения погрешности с уменьшением шага интегрирования.\n",
    "Так на одном шаге интегрирования метод имеет порядок $\\alpha$,\n",
    "если $h(\\delta)\\sim \\delta^\\alpha$, т.е. $h(\\delta)$ пропорционально степени $\\alpha$ \n",
    "шага интегрирования $\\alpha$,\n",
    "Метод Эйлера имеет второй порядок точности одного шага интегрирования, если\n",
    "решение достаточно гладкое.\n",
    "\n",
    "Реализуем метод Эйлера.\n",
    "Ограничимся только автономными системами, т.е. уравнениями вида\n",
    "$$y'(t)=f(y(t)),$$\n",
    "где функция $f$ явным образом не зависит от времени,\n",
    "а зависит только от $y$."
   ]
  },
  {
   "cell_type": "code",
   "execution_count": 2,
   "metadata": {},
   "outputs": [],
   "source": [
    "def EulerIntegrator(h,y0,f):\n",
    "    \"\"\"\n",
    "    Делает один шаг методом Эйлера.\n",
    "    y0 - начальное значение решения в момент времени t=0,\n",
    "    h - шаг по времения,\n",
    "    f(y) - правая часть дифференциального уравнения.\n",
    "    Возвращает приближенное значение y(h).\n",
    "    \"\"\"\n",
    "    return y0+h*f(y0)\n",
    "\n",
    "def oneStepErrorPlot(f, y, integrator):\n",
    "    \"\"\"Рисует график зависимости погрешности одного шага\n",
    "    интегрирования от длины шага.\n",
    "    f(y) - правая часть дифференциального уравнения,\n",
    "    y(t) - точное решение,\n",
    "    integrator(h,y0,f) - аргументы аналогичны EulerIntegrator.\n",
    "    \"\"\"\n",
    "    eps=np.finfo(float).eps\n",
    "    steps=np.logspace(-10,0,50) # шаги интегрирования\n",
    "    y0=y(0) # начальное значение\n",
    "    yPrecise=[y(t) for t in steps] # точные значения решения\n",
    "    yApproximate=[integrator(t,y0,f) for t in steps] # приближенные решения\n",
    "    h=[np.maximum(np.max(np.abs(yp-ya)),eps) for yp, ya in zip(yPrecise, yApproximate)]\n",
    "    plt.loglog(steps, h, '-')\n",
    "    plt.xlabel(u\"Шаг интегрирования\")\n",
    "    plt.ylabel(u\"Погрешность одного шага\") \n",
    "    \n",
    "def firstOrderPlot():\n",
    "    \"\"\"Рисует на текущем графике прямую y=x.\"\"\"\n",
    "    ax = plt.gca()\n",
    "    steps=np.asarray(ax.get_xlim())\n",
    "    plt.loglog(steps, steps, '--r')"
   ]
  },
  {
   "cell_type": "code",
   "execution_count": 3,
   "metadata": {
    "jupyter": {
     "outputs_hidden": false
    }
   },
   "outputs": [
    {
     "data": {
      "image/png": "[encoded data removed]",
      "text/plain": [
       "<Figure size 432x288 with 1 Axes>"
      ]
     },
     "metadata": {
      "needs_background": "light"
     },
     "output_type": "display_data"
    }
   ],
   "source": [
    "# Тестовая система.\n",
    "# Правая часть уравнения y'=f(y).\n",
    "f=lambda y: y\n",
    "# Аналитическое решение\n",
    "yExact=lambda t: np.exp(t)\n",
    "\n",
    "# Строим график ошибок\n",
    "oneStepErrorPlot(f, yExact, EulerIntegrator)\n",
    "firstOrderPlot()\n",
    "plt.legend([u\"метод Эйлера\",u\"первый порядок\"],loc=2)\n",
    "plt.show()"
   ]
  },
  {
   "cell_type": "markdown",
   "metadata": {},
   "source": [
    "На практике величина шага интегрирования $\\Delta$ является вспомогательной величиной,\n",
    "изменение которой позволяет контролировать точность нахождения результата.\n",
    "Интересуют же нас обычно значения функции на неком интервале $t\\in[t_0,t_0+T]$.\n",
    "Если мы используем равномерные приращения по времени $\\Delta$, \n",
    "т.е. $t_k=t_0+k\\cdot\\Delta$, то для достижения правого конца $t_0+T$ интервала \n",
    "потребуется $N$ шагов длины $T/N$.\n",
    "Каждый шаг интегрирования добавляет погрешность, а количество шагов растет\n",
    "с уменьшением длины шага, поэтому можно ожидать, что точность нахождения \n",
    "численным методом решения уравнения на интервале отличается от точности \n",
    "одного шага интегрирования.\n",
    "Пусть $y_a$ приближенное решение уравнения, полученное интегрированием с шагом $\\delta$,\n",
    "а $y$ - точное решение уравнения, тогда величину \n",
    "$H(\\delta)=y_a(t_0+T)-y(t_0+T)$ будем называть погрешностью интегрирования на интервале.\n",
    "Вычислим эту погрешность для метода Эйлера."
   ]
  },
  {
   "cell_type": "code",
   "execution_count": 4,
   "metadata": {
    "jupyter": {
     "outputs_hidden": false
    }
   },
   "outputs": [],
   "source": [
    "def integrate(N, delta, f, y0, integrator):\n",
    "    \"\"\"\n",
    "    Делает N шагов длины delta метода integrator для уравнения y'=f(y) с начальными условиями y0.\n",
    "    Возвращает значение решения в конце интервала.\n",
    "    \"\"\"\n",
    "    for n in range(N):\n",
    "        y0=integrator(delta, y0, f)\n",
    "    return y0\n",
    "\n",
    "def intervalErrorPlot(f, y, integrator, T=1, maxNumberOfSteps=1000, numberOfPointsOnPlot=16):\n",
    "    \"\"\"\n",
    "    Рисует график зависимости погрешности интегрирования на интервале\n",
    "    от длины шага интегрирвания.\n",
    "    Аргументы повторяют аргументы oneStepErrorPlot.\n",
    "    \"\"\"\n",
    "    eps=np.finfo(float).eps\n",
    "    numberOfSteps=np.logspace(0,np.log10(maxNumberOfSteps),numberOfPointsOnPlot).astype(np.int)\n",
    "    steps=T/numberOfSteps # шаги интегрирования\n",
    "    y0=y(0) # начальное значение\n",
    "    yPrecise=y(T) # точнре значения решения на правом конце\n",
    "    yApproximate=[integrate(N,T/N,f,y0,integrator) for N in numberOfSteps] # приближенные решения\n",
    "    h=[np.maximum(np.max(np.abs(yPrecise-ya)),eps) for ya in yApproximate]\n",
    "    plt.loglog(steps, h, '.-')\n",
    "    plt.xlabel(\"Шаг интегрирования\")\n",
    "    plt.ylabel(\"Погрешность интегрования на интервале\")"
   ]
  },
  {
   "cell_type": "code",
   "execution_count": 5,
   "metadata": {
    "jupyter": {
     "outputs_hidden": false
    }
   },
   "outputs": [
    {
     "data": {
      "image/png": "[encoded data removed]",
      "text/plain": [
       "<Figure size 432x288 with 1 Axes>"
      ]
     },
     "metadata": {
      "needs_background": "light"
     },
     "output_type": "display_data"
    }
   ],
   "source": [
    "# Строим график ошибок\n",
    "intervalErrorPlot(f, yExact, EulerIntegrator)\n",
    "firstOrderPlot()\n",
    "plt.legend([\"интегратор\",\"первый порядок\"],loc=2)\n",
    "plt.show()"
   ]
  },
  {
   "cell_type": "markdown",
   "metadata": {},
   "source": [
    "Как мы видим, на интервале метод Эйлера имеет первый порядок точности.\n",
    "Существует однако ситуация, когда метод Эйлера дает точный ответ:\n",
    "это происходит, когда производная постоянна."
   ]
  },
  {
   "cell_type": "code",
   "execution_count": 6,
   "metadata": {
    "jupyter": {
     "outputs_hidden": false
    }
   },
   "outputs": [
    {
     "data": {
      "image/png": "[encoded data removed]",
      "text/plain": [
       "<Figure size 432x288 with 1 Axes>"
      ]
     },
     "metadata": {
      "needs_background": "light"
     },
     "output_type": "display_data"
    }
   ],
   "source": [
    "f=lambda y: 1\n",
    "yExact=lambda t: t\n",
    "\n",
    "# Строим график ошибок\n",
    "oneStepErrorPlot(f, yExact, EulerIntegrator)\n",
    "firstOrderPlot()\n",
    "plt.legend([u\"метод Эйлера\",u\"первый порядок\"],loc=2)\n",
    "plt.show()"
   ]
  },
  {
   "cell_type": "markdown",
   "metadata": {},
   "source": [
    "При приращении аргумента на некий шаг метод Эйлера приращает значение решения таким оразом, \n",
    "что производная остается постоянной и равной значению производной в начале шага.\n",
    "Однако это вообще говоря очень грубое допущение. \n",
    "Чтобы получить более точный метод, мы можем ввести поправки на изменении производной.\n",
    "Раскладывая решение по формуле Тейлора, получаем при малых $t$:\n",
    "$$y(t)=y(0)+y'(0)t+y''(0)\\frac{t^2}2+o(t^2).$$\n",
    "Так $y'(t)=f(t,y(t))$, то дифференцируя по $t$, получаем:\n",
    "$$y''(t)=\\frac{\\partial}{\\partial t}f(t,y(t))+y'(t)\\frac{\\partial}{\\partial y}f(t,y(t)).$$\n",
    "Подставляя производные в разложение, получаем:\n",
    "$$y(\\delta)=y(0)+f(0,y(0))\\delta+\\left(\\frac{\\partial}{\\partial t}f(0,y(0))\n",
    "+f(0,y(0))\\frac{\\partial}{\\partial y}f(0,y(0))\\right)\\frac{\\delta^2}2+o(\\delta^2).$$\n",
    "Эта формула обновления позволяет получить решение в точке $t=\\delta$, зная решение в точке $t=0$,\n",
    "с погрешностью меньшей $\\delta^2$. \n",
    "Это означает, что уменьшая шаг интегрирования в два раза, мы получаем точность выше более чем в 4 раза.\n",
    "Тот же результат можно было получить, используя формулу Эйлера с шагом $\\delta/4$."
   ]
  },
  {
   "cell_type": "code",
   "execution_count": 7,
   "metadata": {},
   "outputs": [],
   "source": [
    "def NewtonIntegrator(h,y0,f):\n",
    "    \"\"\"\n",
    "    Делает один шаг методом Эйлера.\n",
    "    y0 - начальное значение решения в момент времени t=0,\n",
    "    h - шаг по времения,\n",
    "    f(y) - правая часть дифференциального уравнения и его производная.\n",
    "    Возвращает приближенное значение y(h).\n",
    "    \"\"\"\n",
    "    return y0+h*f[0](y0)+f[0](y0)*f[1](y0)*h*h/2"
   ]
  },
  {
   "cell_type": "code",
   "execution_count": 8,
   "metadata": {
    "jupyter": {
     "outputs_hidden": false
    }
   },
   "outputs": [
    {
     "data": {
      "image/png": "[encoded data removed]",
      "text/plain": [
       "<Figure size 432x288 with 1 Axes>"
      ]
     },
     "metadata": {
      "needs_background": "light"
     },
     "output_type": "display_data"
    }
   ],
   "source": [
    "f=(lambda y: y, lambda y: 1)\n",
    "# Аналитическое решение\n",
    "yExact=lambda t: np.exp(t)\n",
    "\n",
    "# Строим график ошибок\n",
    "oneStepErrorPlot(f[0], yExact, EulerIntegrator)\n",
    "oneStepErrorPlot(f, yExact, NewtonIntegrator)\n",
    "firstOrderPlot()\n",
    "plt.legend([u\"метод Эйлера\",u\"метод Ньютона\",u\"первый порядок\"],loc=2)\n",
    "plt.show()"
   ]
  },
  {
   "cell_type": "markdown",
   "metadata": {},
   "source": [
    "Разложение решения по формуле Тейлора и подстановка производных из дифференциального уравнения \n",
    "позволяет получить формулу интегрирования по методу Ньютона произвольной точности.\n",
    "Однако вычисления по этой формуле требуют вычисления производных правой части \n",
    "дифференциального уравнения, что может быть сложной аналитической и вычислительной задачей.\n",
    "Существует другой способ получить метод такой же точности, но не требующий вычислять\n",
    "производные правой части.\n",
    "Рассмотрим сначала модифицированный метод Эйлера.\n",
    "\n",
    "Модифицированный метод Эйлера вычисляет значение решения $y(\\delta)$ по данному значению $y(0)$ с помощью следующей формулы:\n",
    "$$y(\\delta)=y(0)+f\\left(\\frac{\\delta}{2},y_{\\frac{\\delta}{2}}\\right)\\delta,$$\n",
    "где $y_{\\frac\\delta2}$ - значение решение на половинном шаге $t=\\delta/2$:\n",
    "$$y_{\\frac\\delta2}=y(0)+f(0,y(0))\\frac\\delta2.$$\n",
    "Т.е. значение производной на всем шаге считается постоянным, однако для более точной оценки\n",
    "производной сначала находится приближенное значение решения на половине шага интегрирования,\n",
    "которое и используется для вычисления производной из дифферецниального уравнения."
   ]
  },
  {
   "cell_type": "code",
   "execution_count": 9,
   "metadata": {},
   "outputs": [],
   "source": [
    "def ModifiedEulerIntegrator(h,y0,f):\n",
    "    \"\"\"\n",
    "    Модифицированный метод Эйлера. \n",
    "    Аргументы аналогичны EulerIntegrator.\n",
    "    \"\"\"\n",
    "    yIntermediate=y0+f(y0)*h/2\n",
    "    return y0+h*f(yIntermediate)"
   ]
  },
  {
   "cell_type": "code",
   "execution_count": 10,
   "metadata": {
    "jupyter": {
     "outputs_hidden": false
    }
   },
   "outputs": [
    {
     "data": {
      "image/png": "[encoded data removed]",
      "text/plain": [
       "<Figure size 432x288 with 1 Axes>"
      ]
     },
     "metadata": {
      "needs_background": "light"
     },
     "output_type": "display_data"
    }
   ],
   "source": [
    "f=lambda y: y\n",
    "yExact=lambda t: np.exp(t)\n",
    "\n",
    "# Строим график ошибок\n",
    "oneStepErrorPlot(f, yExact, EulerIntegrator)\n",
    "oneStepErrorPlot(f, yExact, ModifiedEulerIntegrator)\n",
    "firstOrderPlot()\n",
    "plt.legend([u\"метод Эйлера\",u\"мод. Эйлер\",u\"первый порядок\"],loc=2)\n",
    "plt.show()"
   ]
  },
  {
   "cell_type": "markdown",
   "metadata": {},
   "source": [
    "Чтобы получить точность выше, мы должны найти больше промежуточных значений внутри одного шага интегрирования\n",
    "и использовать эти значения для оценки производных высоких порядков.\n",
    "Полученные таким образом методы относятся к семейству методов [Рунге-Кутты](https://ru.wikipedia.org/wiki/%D0%9C%D0%B5%D1%82%D0%BE%D0%B4_%D0%A0%D1%83%D0%BD%D0%B3%D0%B5_%E2%80%94_%D0%9A%D1%83%D1%82%D1%82%D1%8B).\n",
    "Самой известным методом из этого классая является классический метод Рунге-Кутты четвертого порядка, использующий для вычислений четыре спомогательные точки. \n",
    "Соответствующая формула интегрирования \n",
    "для решения задачи\n",
    "$$y'(t)=f(t,y(t)),\\quad y(0)=y_0,$$\n",
    "имеет вид:\n",
    "$$y(\\delta)=y(0)+\\frac\\delta6(k_1+2k_2+2k_3+k_4),$$\n",
    "$$k_1=f(0,y(0)),$$\n",
    "$$k_2=f\\left(\\frac\\delta2,y(0)+\\frac\\delta2k_1\\right),$$\n",
    "$$k_3=f\\left(\\frac\\delta2,y(0)+\\frac\\delta2k_2\\right),$$\n",
    "$$k_4=f\\left(\\delta,y(0)+\\delta k_3\\right).$$\n",
    "Классический метод Рунге-Кутты удобен тем, что промежуточные шаги интегрирования делаются последовательно,\n",
    "причем в памяти достаточно хранить только значение одного промежуточного шага.\n",
    "Существуют однако более точные и более устойчивые варианты методы Рунге-Кутты."
   ]
  },
  {
   "cell_type": "code",
   "execution_count": 11,
   "metadata": {},
   "outputs": [],
   "source": [
    "def RungeKuttaIntegrator(h,y0,f):\n",
    "    \"\"\"\n",
    "    Классический метод Рунге-Кутты четвертого порядка. \n",
    "    Аргументы аналогичны EulerIntegrator.\n",
    "    \"\"\"\n",
    "    k1=f(y0)\n",
    "    k2=f(y0+k1*h/2)\n",
    "    k3=f(y0+k2*h/2)\n",
    "    k4=f(y0+k3*h)\n",
    "    return y0+(k1+2*k2+2*k3+k4)*h/6"
   ]
  },
  {
   "cell_type": "code",
   "execution_count": 12,
   "metadata": {
    "jupyter": {
     "outputs_hidden": false
    }
   },
   "outputs": [
    {
     "data": {
      "image/png": "[encoded data removed]",
      "text/plain": [
       "<Figure size 432x288 with 1 Axes>"
      ]
     },
     "metadata": {
      "needs_background": "light"
     },
     "output_type": "display_data"
    }
   ],
   "source": [
    "f=lambda y: y\n",
    "yExact=lambda t: np.exp(t)\n",
    "\n",
    "# Строим график ошибок\n",
    "oneStepErrorPlot(f, yExact, EulerIntegrator)\n",
    "oneStepErrorPlot(f, yExact, ModifiedEulerIntegrator)\n",
    "oneStepErrorPlot(f, yExact, RungeKuttaIntegrator)\n",
    "firstOrderPlot()\n",
    "plt.legend([u\"метод Эйлера\",u\"мод. Эйлер\",u\"метод Рунге-Кутты\",u\"первый порядок\"],loc=2)\n",
    "plt.show()"
   ]
  },
  {
   "cell_type": "markdown",
   "metadata": {},
   "source": [
    "Рассмотренные выше методы относились к семейству явных методов, т.е. \n",
    "позволяли сразу вычислить значения решения по вышеприведенным формулам,\n",
    "так как все величины в формулах были известны заранее.\n",
    "Однако формулы интегрирования могут содержать искомое решение и в левой и правой частях,\n",
    "тогда метод называют неявным.\n",
    "Например, формулу интегрирования для методы Эйлера:\n",
    "$$y(\\delta)=y(0)+f(0,y(0))\\delta,$$\n",
    "можно было переписать так\n",
    "$$y(\\delta)=y(0)+f(\\delta,y(\\delta))\\delta,$$\n",
    "т.е. для приближения производной решения на шаге интегрирования используется точное значение производной в конце, а не в начале шага.\n",
    "Для нахождения нового значения решения $y(\\delta)$ в неявной схеме требуется решить уравнение\n",
    "$G(y(\\delta))=0$, где $G(v)=y(0)-v+f(\\delta,v)\\delta$. \n",
    "Неявные методы вычислительно сложнее, чем явные,\n",
    "однако неявные методы часто обладают привлекательными свойствами, такими как устойчивость и сохранение первых интегралов, что объясняет популяроность и важность этих методов.\n",
    "\n",
    "Мы рализуем [неявный метод Эйлера](https://en.wikipedia.org/wiki/Backward_Euler_method), \n",
    "используя для решения уравнения [метод Ньютона]((https://ru.wikipedia.org/wiki/%D0%9C%D0%B5%D1%82%D0%BE%D0%B4_%D0%9D%D1%8C%D1%8E%D1%82%D0%BE%D0%BD%D0%B0)\n",
    "в реализации SciPy [`scipy.optimize.newton`](https://docs.scipy.org/doc/scipy/reference/generated/scipy.optimize.newton.html#scipy.optimize.newton)."
   ]
  },
  {
   "cell_type": "code",
   "execution_count": 13,
   "metadata": {},
   "outputs": [],
   "source": [
    "import scipy.optimize\n",
    "def BackwardEulerIntegrator(h,y0,f):\n",
    "    \"\"\"\n",
    "    Неявный метод Эйлера. \n",
    "    Аргументы аналогичны NewtonIntegrator.\n",
    "    \"\"\"\n",
    "    def G(v): return y0-v+h*f[0](v) \n",
    "    def Gprime(v): return h*f[1](v)-np.ones(v.shape) # Производная функции G\n",
    "    return scipy.optimize.newton(G,y0,fprime=Gprime) # Запускаем итерации метода Ньютона, используя y0 в качестве первого приближения."
   ]
  },
  {
   "cell_type": "code",
   "execution_count": 14,
   "metadata": {
    "jupyter": {
     "outputs_hidden": false
    }
   },
   "outputs": [
    {
     "data": {
      "image/png": "[encoded data removed]",
      "text/plain": [
       "<Figure size 432x288 with 1 Axes>"
      ]
     },
     "metadata": {
      "needs_background": "light"
     },
     "output_type": "display_data"
    }
   ],
   "source": [
    "alpha=-10\n",
    "f=(lambda y: alpha*y, lambda y: alpha)\n",
    "yExact=lambda t: np.exp(alpha*t)\n",
    "\n",
    "# Строим график ошибок\n",
    "oneStepErrorPlot(f[0], yExact, EulerIntegrator)\n",
    "oneStepErrorPlot(f, yExact, BackwardEulerIntegrator)\n",
    "firstOrderPlot()\n",
    "plt.legend([u\"метод Эйлера\",u\"неявный Эйлер\",u\"первый порядок\"],loc=2)\n",
    "plt.show()"
   ]
  },
  {
   "cell_type": "markdown",
   "metadata": {},
   "source": [
    "Мы видим, что и явный, и неявный метод Эйлера имеют один порядок,\n",
    "однако неявный метод более устойчив, косвенно это проявляется в меньшей ошибке на больших шагах интегрирования.\n",
    "При выполнении многих шагов неустойчивость метода приводит к катастрофическому росту погрешности,\n",
    "что мы видим при больший шагах не следующем графике, демонстрирующем ошибку на фиксированном интервале при разных шагах интегрирования."
   ]
  },
  {
   "cell_type": "code",
   "execution_count": 15,
   "metadata": {
    "jupyter": {
     "outputs_hidden": false
    }
   },
   "outputs": [
    {
     "data": {
      "image/png": "[encoded data removed]",
      "text/plain": [
       "<Figure size 432x288 with 1 Axes>"
      ]
     },
     "metadata": {
      "needs_background": "light"
     },
     "output_type": "display_data"
    }
   ],
   "source": [
    "intervalErrorPlot(f[0], yExact, EulerIntegrator,numberOfPointsOnPlot=16)\n",
    "intervalErrorPlot(f, yExact, BackwardEulerIntegrator,numberOfPointsOnPlot=16)\n",
    "firstOrderPlot()\n",
    "plt.legend([u\"метод Эйлера\",u\"неявный Эйлер\",u\"первый порядок\"],loc=2)\n",
    "plt.show()"
   ]
  },
  {
   "cell_type": "markdown",
   "metadata": {},
   "source": [
    "Вышепроведенные численные эксперименты подсказывают нам зависимость ошибки приближенного решения ОДУ от величины шага интегрирования, теория дает нам асимптотику ошибки для одного шага\n",
    "$$\n",
    "y_0(t_0+\\delta)-y(t_0+\\delta)=C_1\\cdot \\delta^{D+1},\\quad \\delta\\to 0,\n",
    "$$\n",
    "и для интервала фиксированой длины:\n",
    "$$\n",
    "y_0(t_0+T)-y(t_0+T)=C_2\\cdot \\delta^{D},\\quad \\delta\\to 0,\n",
    "$$\n",
    "где $y_0(t)$ и $y(t)$ аналитическое и численное решения ОДУ, соответственно, удовлетворяющие одинаковым начальным условиям $y_0(t_0)=y(t_0)$, \n",
    "а степень $D$ определяет порядок метода.\n",
    "Так как величина шага типично мала, то $\\delta<1$ и методы высокого порядка дают меньшие погрешности.\n",
    "Эти асимптотики однако не учитывает численных погрешностей, поэтому на практике они работают только для шагов больше некоторого порогового значения. \n",
    "Методы высокого порядка обычно требуют большего объема вычислений, поэтому численные погрешности для них также больше, поэтому для неразумно маленьких шагов ошибка методов высокого порядка может оказываться даже хуже, чем у метода низкого порядка."
   ]
  },
  {
   "cell_type": "markdown",
   "metadata": {},
   "source": [
    "# Задания\n",
    "\n",
    "1. Объясните, что понимается под порядком метода интегрирования? Как порядок метода можно определить на графике зависимости точности решения от шага интегрирования? Какой порядок имеют рассмотренные выше методы? Как связаны ошибки интегрирования на одном шаге и на интервале?\n",
    "1. Сравните объемы вычислений (выраженые в числе вычислений правой части ОДУ и ее производной) разных методов, необходимые для получения одной и той же точности решения ОДУ на интервале (размер шага у разных методов будет разным).\n",
    "1. Почему метод Рунге-Кутты 4 порядка с шагом $\\delta$ выгоднее использовать, чем метод Эйлера с шагом $\\delta/4$, хотя метод Рунге-Кутты потребует несколько большего объема вычислений, а уменьшение шага в Эйлере очевидно уменьшает погрешность?\n",
    "1. Сравните поведение численных методов на разных шагах до $\\delta\\approx 10^{-16}$. Какие рекомендация по выбору шага интегрирования для методов разных порядков вы дадите, учитывая накопление численных ошибок?"
   ]
  },
  {
   "cell_type": "markdown",
   "metadata": {},
   "source": [
    "# Task 1\n",
    "\n",
    "#### a) Объясните, что понимается под порядком метода интегрирования?\n",
    "\n",
    "Пусть $y_0(t)$ - аналитическое решение, $y(t)$ - точное решение. Тогда асимптотика для ошибки одного шага $\\delta$ будет иметь вид\n",
    "\n",
    "$$y_0(t + \\delta) - y(t + \\delta) = C_1 \\cdot \\delta^{D + 1}$$\n",
    "\n",
    "Асимптотика ошибки на интервале $[t; t + T]$ будет иметь вид\n",
    "\n",
    "$$y_0(t + T) - y(t + T) = C_2 \\cdot \\delta^{D}$$\n",
    "\n",
    "$D$ - порядок метода интегрирования\n",
    "\n",
    "#### b) Как порядок метода можно определить на графике зависимости точности решения от шага интегрирования?\n",
    "\n",
    "График зависимости ошибки одного шага рассмтариваемого метода от размера шага интегрирования в логарифмическом масштабе является линейным. Можно записать следующее\n",
    "\n",
    "$$ln(y_0(t + \\delta) - y(t + \\delta)) = k \\cdot ln(\\delta) + b = ln(x^k \\cdot e^b) \\Longrightarrow y_0(t + \\delta) - y(t + \\delta) = C \\cdot x^k = C \\cdot x^{D + 1}$$\n",
    "\n",
    "Отсюда можно сделать вывод, что угловой коэффициент графика зависимости ошибки рассматриваемого метода от размера шага интегрирования в логарифмическом масштабе будет на единицу больше порядка метода\n",
    "\n",
    "$$k = D + 1$$\n",
    "\n",
    "#### c) Какой порядок имеют рассмотренные выше методы?\n",
    "\n",
    "Метод Эйлера имеет 1 порядок точности, метод Ньютона и модифицированный метод Эйлера имеют 2 порядок точности, метод Рунге-Кутта, рассмотренный выше, имеет 4 порядок точности\n",
    "\n",
    "#### d) Как связаны ошибки интегрирования на одном шаге и на интервале?\n",
    "\n",
    "Ошибка на одном шаге прямо пропорциональна $\\delta^{D + 1}$, ошибка на интервале прямо пропорциональна $\\delta^D$"
   ]
  },
  {
   "cell_type": "markdown",
   "metadata": {},
   "source": [
    "# Task 2\n",
    "\n",
    "#### Сравните объемы вычислений (выраженые в числе вычислений правой части ОДУ и ее производной) разных методов, необходимые для получения одной и той же точности решения ОДУ на интервале (размер шага у разных методов будет разным)\n",
    "\n",
    "Рассматриваем решение уравнения вида $y'(t) = f(y(t)$ на отрезке $[t, t + T]$, $y(t) = y_0$ - известное значение, $\\varepsilon$ - необходимая точность вычислений\n",
    "\n",
    "##### Метод Эйлера\n",
    "\n",
    "$$y(t) = y_0$$\n",
    "\n",
    "$$y_1 = y_0 + h \\cdot f(y_0)$$\n",
    "\n",
    "$$y_2 = y_1 + h \\cdot f(y_1)$$\n",
    "\n",
    "$$...$$\n",
    "\n",
    "$$y(t + T) = y_N = y_{N-1} + h \\cdot f(y_{N-1})$$\n",
    "\n",
    "Чтобы перейти от $i$-ой точки к $(i+1)$-ой, необходимо произвести 1 вычисление правой части. Всего имеем $N$ точек, в которых необходимо произвести вычисление.\n",
    "\n",
    "$$y_0(t + T) - y(t + T) = C \\cdot h < \\varepsilon$$ \n",
    "$$C \\frac{T}{N} < \\varepsilon$$\n",
    "$$N_{Euler} \\sim \\Big[ \\frac{T}{\\varepsilon}\\Big]$$\n",
    "\n",
    "Объем вычислений для метода Эйлера будет равен количеству узлов\n",
    "\n",
    "$$\\text{Объем вычислений} = N_{Euler} = \\Big[ \\frac{T}{\\varepsilon}\\Big]$$\n",
    "\n",
    "##### Модифицированный метод Эйлера\n",
    "\n",
    "$$y(t) = y_0$$\n",
    "\n",
    "$$y_{\\frac{1}{2}} = y_0 + \\frac{h}{2} \\cdot f(y_0)$$\n",
    "\n",
    "$$y_1 = y_0 + h \\cdot f\\Big(y_{\\frac{1}{2}}\\Big)$$\n",
    "\n",
    "$$...$$\n",
    "\n",
    "$$y_{i + \\frac{1}{2}} = y_i + \\frac{h}{2} \\cdot f(y_i)$$\n",
    "\n",
    "$$y_{i+1} = y_i + h \\cdot f\\Big(y_{i + \\frac{1}{2}}\\Big)$$\n",
    "\n",
    "$$...$$\n",
    "\n",
    "$$y_{N - \\frac{1}{2}} = y_{N-1} + \\frac{h}{2} \\cdot f(y_{N-1})$$\n",
    "\n",
    "$$y(t + T) = y_N = y_{N-1} + h \\cdot f\\Big(y_{N-\\frac{1}{2}}\\Big)$$\n",
    "\n",
    "Чтобы перейти от $i$-ой точки к $(i+1)$-ой, необходимо произвести 2 вычисления правой части. Всего имеем $N$ точек, в которых необходимо произвести вычисление.\n",
    "\n",
    "$$y_0(t + T) - y(t + T) = C \\cdot h^2 < \\varepsilon$$ \n",
    "$$C \\frac{T^2}{N^2} < \\varepsilon$$\n",
    "$$N_{mod Euler} \\sim \\Big[ \\frac{T}{\\sqrt{\\varepsilon}}\\Big]$$\n",
    "\n",
    "Объем вычислений для модифицированного метода Эйлера будет равен удвоенному количеству узлов\n",
    "\n",
    "$$\\text{Объем вычислений} = 2  N_{mod Euler} = 2 \\Big[ \\frac{T}{\\sqrt{\\varepsilon}}\\Big]$$\n",
    "\n",
    "##### Метод Рунге-Кутты 4-го порядка\n",
    "\n",
    "Аналогичным образом можно получить \n",
    "\n",
    "$$N_{RungeKutta} \\sim \\Big[ \\frac{T}{\\sqrt[4]{\\varepsilon}}\\Big]$$\n",
    "\n",
    "$$\\text{Объем вычислений} = 5  N_{RungeKutta} = 5 \\Big[ \\frac{T}{\\sqrt[4]{\\varepsilon}}\\Big]$$\n",
    "\n"
   ]
  },
  {
   "cell_type": "markdown",
   "metadata": {},
   "source": [
    "# Task 3\n",
    "\n",
    "#### Почему метод Рунге-Кутты 4 порядка с шагом  𝛿 выгоднее использовать, чем метод Эйлера с шагом  𝛿/4, хотя метод Рунге-Кутты потребует несколько большего объема вычислений, а уменьшение шага в Эйлере очевидно уменьшает погрешность?\n",
    "\n",
    "При размере шага $\\delta$ метод Эйлера дает погрешность $O(\\frac{\\delta}{4})$ при объеме вычислений $\\frac{4T}{\\delta}$, а метод Рунге-Кутты 4 порядка дает погрешность $O(\\delta^4)$ при объеме вычислений $\\frac{5T}{\\delta}$. Таким образом, при сравнимых объемах вычислений, используя метод Рунге-Кутта погрешность вычислений гораздо ниже"
   ]
  },
  {
   "cell_type": "markdown",
   "metadata": {},
   "source": [
    "# Task 4\n",
    "\n",
    "#### Сравните поведение численных методов на разных шагах до $\\delta\\approx 10^{-16}$. Какие рекомендация по выбору шага интегрирования для методов разных порядков вы дадите, учитывая накопление численных ошибок?"
   ]
  },
  {
   "cell_type": "code",
   "execution_count": 16,
   "metadata": {},
   "outputs": [
    {
     "ename": "NameError",
     "evalue": "name 'T' is not defined",
     "output_type": "error",
     "traceback": [
      "\u001b[0;31m---------------------------------------------------------------------------\u001b[0m",
      "\u001b[0;31mNameError\u001b[0m                                 Traceback (most recent call last)",
      "\u001b[0;32m<ipython-input-16-8990a111f9bd>\u001b[0m in \u001b[0;36m<module>\u001b[0;34m\u001b[0m\n\u001b[1;32m     17\u001b[0m \u001b[0;34m\u001b[0m\u001b[0m\n\u001b[1;32m     18\u001b[0m \u001b[0mnumberOfSteps\u001b[0m\u001b[0;34m=\u001b[0m\u001b[0mnp\u001b[0m\u001b[0;34m.\u001b[0m\u001b[0mlogspace\u001b[0m\u001b[0;34m(\u001b[0m\u001b[0;36m0\u001b[0m\u001b[0;34m,\u001b[0m\u001b[0mnp\u001b[0m\u001b[0;34m.\u001b[0m\u001b[0mlog10\u001b[0m\u001b[0;34m(\u001b[0m\u001b[0;36m10\u001b[0m\u001b[0;34m**\u001b[0m\u001b[0;36m16\u001b[0m\u001b[0;34m)\u001b[0m\u001b[0;34m,\u001b[0m \u001b[0;36m16\u001b[0m\u001b[0;34m)\u001b[0m\u001b[0;34m.\u001b[0m\u001b[0mastype\u001b[0m\u001b[0;34m(\u001b[0m\u001b[0mnp\u001b[0m\u001b[0;34m.\u001b[0m\u001b[0muint\u001b[0m\u001b[0;34m)\u001b[0m\u001b[0;34m\u001b[0m\u001b[0;34m\u001b[0m\u001b[0m\n\u001b[0;32m---> 19\u001b[0;31m \u001b[0msteps\u001b[0m\u001b[0;34m=\u001b[0m\u001b[0mT\u001b[0m\u001b[0;34m/\u001b[0m\u001b[0mnumberOfSteps\u001b[0m\u001b[0;34m\u001b[0m\u001b[0;34m\u001b[0m\u001b[0m\n\u001b[0m\u001b[1;32m     20\u001b[0m \u001b[0mprint\u001b[0m\u001b[0;34m(\u001b[0m\u001b[0mnumberOfSteps\u001b[0m\u001b[0;34m)\u001b[0m\u001b[0;34m\u001b[0m\u001b[0;34m\u001b[0m\u001b[0m\n\u001b[1;32m     21\u001b[0m \u001b[0mprint\u001b[0m\u001b[0;34m(\u001b[0m\u001b[0;34m)\u001b[0m\u001b[0;34m\u001b[0m\u001b[0;34m\u001b[0m\u001b[0m\n",
      "\u001b[0;31mNameError\u001b[0m: name 'T' is not defined"
     ]
    }
   ],
   "source": [
    "def NewintervalErrorPlot(f, y, integrator, T=1, maxNumberOfSteps=10**10, numberOfPointsOnPlot=8):\n",
    "    \"\"\"\n",
    "    Рисует график зависимости погрешности интегрирования на интервале\n",
    "    от длины шага интегрирвания.\n",
    "    Аргументы повторяют аргументы oneStepErrorPlot.\n",
    "    \"\"\"\n",
    "    eps=np.finfo(float).eps\n",
    "    numberOfSteps=np.logspace(0,np.log10(maxNumberOfSteps),numberOfPointsOnPlot).astype(np.uint)\n",
    "    steps=T/numberOfSteps # шаги интегрирования\n",
    "    y0=y(0) # начальное значение\n",
    "    yPrecise=y(T) # точнре значения решения на правом конце\n",
    "    yApproximate=[integrate(N,T/N,f,y0,integrator) for N in numberOfSteps] # приближенные решения\n",
    "    h=[np.maximum(np.max(np.abs(yPrecise-ya)),eps) for ya in yApproximate]\n",
    "    plt.loglog(steps, h, '.-')\n",
    "    plt.xlabel(\"Шаг интегрирования\")\n",
    "    plt.ylabel(\"Погрешность интегрования на интервале\")\n",
    "\n",
    "numberOfSteps=np.logspace(0,np.log10(10**16), 16).astype(np.uint)\n",
    "steps=T/numberOfSteps\n",
    "print(numberOfSteps)\n",
    "print()\n",
    "print(steps)"
   ]
  },
  {
   "cell_type": "code",
   "execution_count": null,
   "metadata": {},
   "outputs": [],
   "source": [
    "NewintervalErrorPlot(f[0], yExact, EulerIntegrator,numberOfPointsOnPlot=8)\n",
    "# NewintervalErrorPlot(f, yExact, BackwardEulerIntegrator,numberOfPointsOnPlot=8)\n",
    "# NewintervalErrorPlot(f[0], yExact, RungeKuttaIntegrator,numberOfPointsOnPlot=8)\n",
    "# NewintervalErrorPlot(f[0], yExact, ModifiedEulerIntegrator,numberOfPointsOnPlot=8)\n",
    "# firstOrderPlot()\n",
    "# plt.legend([u\"метод Эйлера\", u\"неявный Эйлер\", u\"Рунге-Кутты\", u\"мод. Эйлера\", u\"первый порядок\"],loc=2)\n",
    "plt.show()"
   ]
  },
  {
   "cell_type": "markdown",
   "metadata": {},
   "source": [
    "Поведение численного решения на фиксированном интервале не полностью описывает характеристики численного интегратора.\n",
    "Часто промежуток интегрирования формально бесконечен, например, если мы моделируем динамику системы, то нас интересует решение во все времена $t\\geq t_0$. Сравним решение методом Эйлера для разных шагов с аналитическим решением на большом промежутке.\n"
   ]
  },
  {
   "cell_type": "code",
   "execution_count": null,
   "metadata": {},
   "outputs": [],
   "source": [
    "def solve_ode(T=None, delta=None, f=None, y0=None, integrator=None):\n",
    "    \"\"\"\n",
    "    Решает уравнение y'(t)=f(y(t)) с начальными условиями y(0)=y0 на интервале [0,T],\n",
    "    используя интегратор `integrator` и шаг интегрирования delta.\n",
    "    Возвращает пару массивов (tk, yk), где tk хранит отсчеты времени, а yk значения решения в эти отсчеты.\n",
    "    \"\"\"\n",
    "    y0 = np.asarray(y0)\n",
    "    N = int(T/delta) # Число шаго интегрирования\n",
    "    tk = np.arange(N+1)*delta\n",
    "    yk = np.empty((N+1,)+y0.shape, dtype=np.complex) # Массивы для хранения решения.\n",
    "    yk[0]=y0 # Начальные условия\n",
    "    for n in range(N): # Итерируем решатель\n",
    "        yk[n+1]=integrator(delta, yk[n], f)\n",
    "    return tk, yk\n",
    "\n",
    "def run_test(integrator=None, yExact=None, deltas=None, **problem):\n",
    "    # Готовим место под рисунки\n",
    "    fig, (ax1, ax2) = plt.subplots(1,2,figsize=(15,7))\n",
    "\n",
    "    # Проводим эксперименты.\n",
    "    for delta in deltas:\n",
    "        tk, yk = solve_ode(delta=delta, integrator=integrator, **problem) \n",
    "        y0 = yExact(tk)\n",
    "        error = np.abs(yk-y0)/np.abs(y0)\n",
    "        label = \"$\\delta$={:.2e}\".format(delta)\n",
    "        ax1.plot(tk, np.real(yk), label=label)\n",
    "        ax2.loglog(tk, error, label=label)\n",
    "    tk = np.linspace(0, problem[\"T\"], 1000)\n",
    "    y0 = yExact(tk)\n",
    "    ax1.plot(tk, np.real(y0), '-k', label='Exact')\n",
    "    ax2.loglog(tk[1:], tk[1:], '--', label=\"error $=t$\")\n",
    "    mx = np.max(np.real(y0))\n",
    "    ax1.set_ylim(( -2*mx, 2*mx ))\n",
    "    ax2.set_ylim((None,1e1))\n",
    "    ax1.legend(); ax2.legend()\n",
    "    ax1.set_xlabel(\"$t$\")\n",
    "    ax1.set_ylabel(\"$y(t)$\")    \n",
    "    ax2.set_xlabel(\"$t$\")\n",
    "    ax2.set_ylabel(\"Relative error for $y(t)$\")        \n",
    "    plt.show()\n",
    "\n",
    "alpha = -5+0j # Коэффициент в решаемом уравнении y'(t)=alpha*y(t).\n",
    "problem = {\n",
    "    \"T\": 5, # Промежуток интегрирования\n",
    "    \"f\": lambda y: alpha*y, \n",
    "    \"yExact\": lambda t: np.exp(alpha*t),\n",
    "    \"deltas\": np.linspace(0.1,1.0,9), # Набор шагов интегрирования, на которых производится сравнение.\n",
    "    \"y0\": 1, # Начальное условие.\n",
    "}\n",
    "\n",
    "run_test(integrator=EulerIntegrator, **problem)"
   ]
  },
  {
   "cell_type": "markdown",
   "metadata": {},
   "source": [
    "Видно, что погрешность растет со временем при любых шагах интегрирования, причем погрешность пропорциональна $t$ или, что эквивалентно, номеру шага.\n",
    "Мы рассматривали очень большие значения шага, поэтому ошибки приближаются к 100%. \n",
    "Несмотря на большую погрешность, при маленьких величинах шага численное решение качественно воспроизводит аналитическое, \n",
    "также стремиться к нулю, а значит и абсолютная погрешность такого решения стремиться к нулю.\n",
    "При значениях шага больших критического значения численное решение становится неограниченным и не дает нам никакой информации об аналитическом решении. \n",
    "Говорят, что метод при больших шагах неустойчив.\n",
    "\n",
    "Чтобы понять причину неустойчивости, рассмотрим изменение ошибка от шага к шагу.\n",
    "Обозначим через $y=y_0(t; \\hat t, \\hat y)$ решение уравнения $y'(t)=\\alpha y(t)$, \n",
    "удовлетворяющее начальным условиям $y(\\hat t)=\\hat y$.\n",
    "Пусть первоначальная ошибка в начальных условиях была равна $\\Delta y_0=y_0-y(0; 0, y_0)$.\n",
    "Погрешность после одного шага мы оценивали выше, его асимптотика определяет порядок метода:\n",
    "$\\Delta y_1=y_1-y(\\delta; 0, y_0)\\approx C_1\\delta^{D+1}$.\n",
    "Предположим, что при $t\\geq \\delta$ мы найдем решение чудо методом, дающим абсолютно точное решение $y(t;\\delta,\\hat y_1)$.\n",
    "К сожалению, это решение не даст точного решения исходной задачи, \n",
    "так как в начальных условиях уже содержится ошибка,\n",
    "т.е. как минимум, мы получаем погрешность $y(t;0,y_0)-y(t;\\delta,y_1)$.\n",
    "Заметим, что эта погрешность будет расти экспоненциально, если $\\mathrm{Re}\\alpha>0$.\n",
    "Для нашего простого уравнения $y(t;\\hat t,\\hat y)=\\hat y e^{\\alpha(t-\\hat t)}$, а значит\n",
    "$$\n",
    "y(t;0,y_0)-y(t;\\delta,y_1)=y_0e^{\\alpha t}-y_1 e^{\\alpha(t-\\delta)}\n",
    "=y_0e^{\\alpha t}-(y(\\delta;0,y_0)+\\Delta y_1)e^{\\alpha(t-\\delta)}\n",
    "=-e^{\\alpha(t-\\delta)}\\Delta y_1.\n",
    "$$\n",
    "Таким образом, при переходе к следующему узлу времени, ошибка $\\Delta y_1$ на предыдущем шаге\n",
    "преобразуется в ошибку $\\Delta y_2\\geq \\beta \\Delta y_1$ на следующем шаге, где $\\beta=e^{\\alpha\\delta}$.\n",
    "Так как шаг делается также приближенным методом, то фактическая ошибка будет включать в себя также ошибку одного шага:\n",
    "$$\n",
    "\\Delta y_{k+1}\\approx \\beta\\Delta y_k+C_1\\delta^{D+1}.\n",
    "$$\n",
    "Если $|\\beta|>1$, то ошибки с каждым следующим шагом раздуваются,\n",
    "если $|\\beta|<1$, то скорость накопления ошибки намного меньше. \n",
    "\n",
    "Проиллюстрируем поведения ошибки решением уравнения $y'=5y$. \n",
    "Черная сплошная линия показывает численное решение, полученное явным методом Эйлера с шагом $\\delta=0.1$.\n",
    "Пунктирным линиями обозначены точные решения, совпадающие с численным решением в точках $(k\\delta,y_k)$.\n",
    "Верхняя линия сооветствует точному решению с искомыми начальными условиями.\n",
    "После первого шага интегрирования решение получается несколько меньшим, чем точное значение.\n",
    "Через эту приближенную точку мы провели второю интегральную кривую, вторую сверху на рисунке.\n",
    "Расстояние между двумя верхними кривыми показывает, как ошибка первого шага интегрирования меняется со временем:\n",
    "на первом шаге ее не видно, но она быстро растет.\n",
    "Окончательная ошибка равна расстоянию от верхней кривой (точное решение), до черной кривой (численное решение),\n",
    "эта погрешность растет экспоненциально."
   ]
  },
  {
   "cell_type": "code",
   "execution_count": null,
   "metadata": {},
   "outputs": [],
   "source": [
    "alpha=5 # Собственное число диф. оператора.\n",
    "f=lambda y: alpha*y #  # Правая часть ОДУ.\n",
    "y=lambda t, hatt, haty: haty*np.exp(alpha*(t-hatt)) # Аналитическое решение.\n",
    "T = 1 # Максимальное значение времени.\n",
    "tk=np.linspace(0, T, 11) # Отсчеты времени для численного интегрирования.\n",
    "yk=np.empty_like(tk) # Приближенное решение.\n",
    "yk[0]=1 # Начальное условие.\n",
    "for n in range(len(tk)-1): # Перебираем отсчеты времени.\n",
    "    plt.plot(tk[n:], y(tk[n:],tk[n],yk[n]), ':', label=\"$y(t;{:.1f},y_{:})$\".format(tk[n], n))\n",
    "    yk[n+1] = yk[n] + (tk[n+1]-tk[n])*f(yk[n])\n",
    "plt.plot(tk, yk, '-k', label=\"$y_k$\")\n",
    "plt.legend()\n",
    "plt.xlabel(\"$t$\")\n",
    "plt.ylabel(\"$y(t)$\")\n",
    "plt.show()\n"
   ]
  },
  {
   "cell_type": "markdown",
   "metadata": {},
   "source": [
    "Мы вывели константу обусловленности $\\beta$ из анализа поведения аналитического решения.\n",
    "Для расходящихся интегральных кривых ошибка нарастает неизбежно, независимо от используемого метода.\n",
    "Однако на практике часто расмматриваются случаи, когда объем фазового пространства в исходной задаче сохраняется,\n",
    "что соответствует $|\\beta|=1$, однако соответствующее число обусловленности численного метода может быть больше $1$.\n",
    "Если численный метод записать в виде линейного преобразования $y_{k+1}=Iy_k$, \n",
    "то ошибка $\\Delta y_k$ предыдущего шага пересчитывается на следующий как $I\\Delta_k$.\n",
    "Значит число обусловленности шага интегрирования можно оценить как $\\beta=\\|I\\|$.\n",
    "Эта $\\beta$ зависит от выбора метода и от шага интегрирования. \n",
    "При $|\\beta|<1$ ошибка растет умеренно (линейно) и метод интегрирования является устойчивым.\n",
    "\n",
    "Существует несколько формальных определений устойчивости. \n",
    "Рассмотрим два из них, опирающиеся на поведение численных решений уравнения $y'=\\alpha y$ с начальным условием $y(0)=1$.\n",
    "Если численные решения стремяться к нулю $y(t)\\to0$ при $t\\to+\\infty$ для всех $\\mathrm{Re}\\,\\alpha<0$, \n",
    "то метод по определению называется *$A$-устойчивым*.\n",
    "Для методов семейства Рунге-Кутты оператор $I\\colon y_{k+1}=Iy_k$ зависит от произведения $\\delta\\alpha$,\n",
    "а не от $\\alpha$ и $\\delta$ независимо. \n",
    "Множество всех $z$, таких что $\\|I(z)\\|<1$ называется *областью устойчивости*.\n",
    "Ясно, что метод является $A$-устойчивым, если его оласть устойчивости содержит левую полуплоскость.\n",
    ".\n",
    "Найдем область устойчивости явного метода Эйлера. \n",
    "Один шаг интегрирования можно записать в виде:\n",
    "$$y_{k+1}=y_k+\\delta y'(y_k)=y_k+\\alpha y_k\\delta=(1+\\alpha\\delta)y_k=I(\\alpha\\delta) y_k.$$\n",
    "Таким образом область устойчивости имеет является кругом:\n",
    "$$\\|I(z)\\|=\\|1+z\\|<1.$$\n",
    "Очевидно, что метод не является абсолютно устойчивым.\n",
    "Для задачи с конкретным $\\alpha$ нужно выбирать $\\delta$ достаточно малым, \n",
    "так чтобы $\\alpha\\delta$ попало в область устойчивости."
   ]
  },
  {
   "cell_type": "code",
   "execution_count": null,
   "metadata": {},
   "outputs": [],
   "source": [
    "# Проведем численный эксперимент по определению области устойчивости.\n",
    "# Мы реализуем наивный вариант, не требующий составления матрицы I.\n",
    "def check_stability(ax=-3, bx=1, ay=-2, by=2, N=100, delta=1e-2, integrator=None, M=50, threshold=100):\n",
    "    \"\"\"Строит область устойчивости метода `integrator`, перебирая точки alpha=x+i y,\n",
    "    и делая N итераций с шагом delta для уравнения y'=alpha y с начальными условиями y(0)=1.\n",
    "    Результат итераций, изображенный на тепловой карте, ограничен для малых значений из области устойчивости \n",
    "    и велик вне этой области.\n",
    "    Значений x берутся из интервала [ax,bx], а y из интервала [ay,by], причем для каждого выбирается M значений.\n",
    "    \"\"\"\n",
    "    xk = np.linspace(ax, bx, M)\n",
    "    yk = np.linspace(ay, by, M)\n",
    "    v = np.empty((M,M))\n",
    "    for nx in range(M):\n",
    "        for ny in range(M):\n",
    "            alpha = xk[nx]+1j*yk[ny]\n",
    "            v[nx, ny] = np.abs( integrate(N, 1, lambda y: alpha*y, 1, integrator=integrator) )\n",
    "    plt.imshow(v.T<threshold, origin='lower', extent=(ax, bx, ay, by))\n",
    "    plt.show()\n",
    "\n",
    "check_stability(integrator=EulerIntegrator)"
   ]
  },
  {
   "cell_type": "markdown",
   "metadata": {},
   "source": [
    "# Задание\n",
    "\n",
    "5. Постройте графики изменения со временем относительной ошибки численного решения уравнения $y'(t)=-5y(t)$ неявным методом Эйлера и методом Рунге-Кутты четвертого порядка.\n",
    "\n",
    "6. Напишите асимптотику ошибки от номера итерации $N$ и от величины шага $\\delta$. Каким образом в этой асимптотике отражается устойчивость метода и его порядок?\n",
    "\n",
    "7. Найдите шаги, при которых рассмотренные выше методы устойчивы (хотя бы для одного метода). Постройте графики ошибок для нескольких разных шагов рядом с границей устойчивости. \n",
    "\n",
    "8. Объясните, почему неявный метод Эйлера более устойчив, чем явный?\n",
    "\n",
    "9. Решите численно на интервале $t\\in[0,1]$ уравнение\n",
    "$$y'(t)=cos(y(t)),\\quad y(0)=1.$$\n",
    "Обоснуйте выбор метода интегрирования и шага интегрирования.\n",
    "Сравните численное решение с аналитическим."
   ]
  },
  {
   "cell_type": "markdown",
   "metadata": {},
   "source": [
    "# Task 8\n",
    "\n",
    "Рассмотрим на примере уранения\n",
    "\n",
    "$$\n",
    "y' = - k y(t)\n",
    "$$\n",
    "\n",
    "Тогда разностная схема для явного метода Ньютона имеет вид\n",
    "\n",
    "$$\n",
    "\\frac{u^{n+1} - u^n}{h} = f (t^n, u^n) = - k u^n\n",
    "$$\n",
    "\n",
    "Исследуем устойчивость с помощью спеткрального метода\n",
    "\n",
    "$$\n",
    "\\frac{\\lambda^{n+1} - \\lambda^n}{h} = - k \\lambda^n \\Longrightarrow\n",
    "\\lambda = 1 - k h\n",
    "$$\n",
    "\n",
    "Решение устойчиво при $|1 - k h| \\leq 1 \\quad \\Longrightarrow \\quad h \\leq 2/k$\n",
    "\n",
    "---\n",
    "\n",
    "Для неявного метода Ньютона разностная схема имеет вид\n",
    "\n",
    "$$\n",
    "\\frac{u^{n+1} - u^n}{h} = f (t^{n+1}, u^{n+1}) = -h u^{n+1}\n",
    "$$\n",
    "\n",
    "Тогда\n",
    "\n",
    "$$\n",
    "\\frac{\\lambda^{n+1} - \\lambda^n}{h} = -k \\lambda^{n+1} \\Longrightarrow\n",
    "\\lambda - 1 = -k h \\lambda \\Longrightarrow \\lambda = \\frac{1}{1 + kh}\n",
    "$$\n",
    "\n",
    "Сходимость гарантируется при любом $h$"
   ]
  },
  {
   "cell_type": "markdown",
   "metadata": {},
   "source": [
    "# Task 9\n",
    "\n"
   ]
  },
  {
   "cell_type": "code",
   "execution_count": 17,
   "metadata": {},
   "outputs": [
    {
     "ename": "NameError",
     "evalue": "name 'solve_ode' is not defined",
     "output_type": "error",
     "traceback": [
      "\u001b[0;31m---------------------------------------------------------------------------\u001b[0m",
      "\u001b[0;31mNameError\u001b[0m                                 Traceback (most recent call last)",
      "\u001b[0;32m<ipython-input-17-e39d6858a498>\u001b[0m in \u001b[0;36m<module>\u001b[0;34m\u001b[0m\n\u001b[1;32m      1\u001b[0m \u001b[0mf\u001b[0m \u001b[0;34m=\u001b[0m \u001b[0;32mlambda\u001b[0m \u001b[0my\u001b[0m \u001b[0;34m:\u001b[0m \u001b[0mnp\u001b[0m\u001b[0;34m.\u001b[0m\u001b[0mcos\u001b[0m\u001b[0;34m(\u001b[0m\u001b[0my\u001b[0m\u001b[0;34m)\u001b[0m\u001b[0;34m\u001b[0m\u001b[0;34m\u001b[0m\u001b[0m\n\u001b[1;32m      2\u001b[0m \u001b[0;34m\u001b[0m\u001b[0m\n\u001b[0;32m----> 3\u001b[0;31m \u001b[0mt\u001b[0m\u001b[0;34m,\u001b[0m \u001b[0my\u001b[0m \u001b[0;34m=\u001b[0m \u001b[0msolve_ode\u001b[0m\u001b[0;34m(\u001b[0m\u001b[0;36m1\u001b[0m\u001b[0;34m,\u001b[0m \u001b[0;36m1e-3\u001b[0m\u001b[0;34m,\u001b[0m \u001b[0mf\u001b[0m\u001b[0;34m,\u001b[0m \u001b[0;36m1\u001b[0m\u001b[0;34m,\u001b[0m \u001b[0mRungeKuttaIntegrator\u001b[0m\u001b[0;34m)\u001b[0m\u001b[0;34m\u001b[0m\u001b[0;34m\u001b[0m\u001b[0m\n\u001b[0m\u001b[1;32m      4\u001b[0m \u001b[0;34m\u001b[0m\u001b[0m\n\u001b[1;32m      5\u001b[0m analitical = lambda x: 2*np.arccos((np.sinh(x)*(np.sin(1/2) - np.cos(1/2)) + np.cosh(x)*(np.cos(1/2) - np.sin(1/2)) + np.sin(1/2) + np.cos(1/2))/\n",
      "\u001b[0;31mNameError\u001b[0m: name 'solve_ode' is not defined"
     ]
    }
   ],
   "source": [
    "f = lambda y : np.cos(y)\n",
    "\n",
    "t, y = solve_ode(1, 1e-3, f, 1, RungeKuttaIntegrator)\n",
    "\n",
    "analitical = lambda x: 2*np.arccos((np.sinh(x)*(np.sin(1/2) - np.cos(1/2)) + np.cosh(x)*(np.cos(1/2) - np.sin(1/2)) + np.sin(1/2) + np.cos(1/2))/\n",
    "                                     (np.sqrt(2)*np.sqrt((np.sin(1) - 1)*np.sinh(2*x) - (np.sin(1) - 1)*np.cosh(2*x) + 1 + np.sin(1)))) \n",
    "\n",
    "\n",
    "abs_error_through_time_plot(f, analitical, RungeKuttaIntegrator)\n",
    "abs_error_through_time_plot(f, analitical, EulerIntegrator)"
   ]
  },
  {
   "cell_type": "markdown",
   "metadata": {},
   "source": [
    "Выше мы рассматривали ОДУ на неизвестную скалярную функцию $y\\colon\\mathbb R\\to\\mathbb R$.\n",
    "На практике часто возникают системы дифференциальных уравнений\n",
    "$Y'(t)=F(Y(t))$, где $Y\\colon\\mathbb R\\to\\mathbb R^K$ векторнозначная функция скалярного аргумента $t$.\n",
    "Считая, что $\\mathbb R$ является частным случаем Гильбертова пространства, все рассуждения выше можно перенести на случай\n",
    "вектор-функции практически без изменений.\n",
    "Это очень удобно при отладке, так как вы можете сначала реализовать и отладить численный метод для на скалярной функии,\n",
    "а затем использовать его для тензорных полей без изменений.\n",
    "В качестве примера решим систему уравнений:\n",
    "$$\\begin{cases} \\dot x = -y,\\\\ \\dot y = x, \\end{cases},\\quad\n",
    "\\begin{cases} x(0) = 1,\\\\ y(0) = 0, \\end{cases}.$$\n",
    "Легко видеть, что аналитическое решение в данном случае имеет вид:\n",
    "$$x(t)=\\cos t,\\quad y(t)=\\sin t.$$\n",
    "Используем выше реализованный интегратор Рунге-Кутты,\n",
    "применив его в вектор функции:\n",
    "$$Y(t)=\\begin{pmatrix}x(t)\\\\y(t)\\end{pmatrix},\\quad\n",
    "Y(0)=\\begin{pmatrix}1\\\\0\\end{pmatrix},\\quad\n",
    "Y'=\\begin{pmatrix}0&-1\\\\1&0\\end{pmatrix}Y.$$"
   ]
  },
  {
   "cell_type": "code",
   "execution_count": null,
   "metadata": {},
   "outputs": [],
   "source": [
    "def f(y): return np.array([-y[1], y[0]])\n",
    "def yExact(t): return np.array([np.cos(t), np.sin(t)])\n",
    "\n",
    "oneStepErrorPlot(f, yExact, RungeKuttaIntegrator)\n",
    "firstOrderPlot()\n",
    "plt.legend([u\"метод Рунге-Кутта\",u\"первый порядок\"],loc=2)\n",
    "plt.show()"
   ]
  },
  {
   "cell_type": "markdown",
   "metadata": {},
   "source": [
    "Уравнения высокого порядка также могуть быть решены вышеописанными интеграторами без каких бы то ни было модификаций,\n",
    "для чего достаточно свести уравнение к системе уравнений первого порядка, расматривая каждую производную как отдельную неизвестную."
   ]
  },
  {
   "cell_type": "markdown",
   "metadata": {},
   "source": [
    "# Задания \n",
    "\n",
    "\n",
    "10. Решите уравнение\n",
    "$$y''(t)=-y(t),\\quad y(0)=1,\\quad y'(0)=0.$$\n",
    "Это уравнение можно свести к системе уравнений первого порядка, с помощью введения новой переменной $z(t)=y'(t)$:\n",
    "$$\\begin{cases}\n",
    "z'(t)=-y(t),\\quad z(0)=0,\\\\\n",
    "y'(t)=z(t),\\quad y(0)=1.\\\\\n",
    "\\end{cases}$$\n",
    "Тогда для решения этой системы можно использовать рассмотренные выше методы, если учесть, что искомое решение будет задаваться вектором:\n",
    "$$Y(t)=\\begin{pmatrix}y(t)\\\\z(t)\\end{pmatrix}.$$\n",
    "\n",
    "11. Изучите погрешности каждой из компонент решения $y(t)$, $z(t)$. \n",
    "Объясните, почему скорость сходимости ошибки к нулю (а значит и порядок метода) при стремлении шага к нулю\n",
    "разный для разных компонент?"
   ]
  },
  {
   "cell_type": "markdown",
   "metadata": {},
   "source": [
    "Выше мы вычисляли погрешность решения, сравнивая численное решение с аналитическим.\n",
    "На практике естественно мы не имеем аналитического решения, \n",
    "поэтому погрешность решения удобно оценивать по двум приближенным решениям,\n",
    "имеющим разные порядки точности.\n",
    "Пусть у нас есть два приближения $y_1$ и $y_2$ одного аналитического решения $y$,\n",
    "имеющие порядок $D$ и $D+1$, т.е.\n",
    "$$y_1=y+C\\cdot\\delta^D+O(\\delta^{D+1}),\\quad y_2=y+O(\\delta^{D+1}),$$\n",
    "тогда разность этих решений с точностью до бесконечно малых совпадает с главным вкладом в ошибку для решения с большей погрешностью,\n",
    "$$y_1-y_2=C\\cdot \\delta^D+O(\\delta^{D+1}),$$\n",
    "следовательно эта разность может быть использована для оценки погрешности.\n",
    "Более того, отбрасывая бесконечно малые высоких порядков, мы можем оценить величину шага, достаточную для получения заданной точности $\\epsilon$:\n",
    "$$|y_1-y_2|\\approx C\\delta^D<\\epsilon\\quad\\Leftrightarrow\\quad\n",
    "\\delta<\\left(\\frac{|y_1-y_2|}{C}\\right)^{1/D}.$$\n",
    "Такая оценка точности будет автоматически подстраиваться под свойства решения возле текущего момента времени, позволяя делать большие шаги, когда это возможно.\n",
    "Получаемые значения шага необходимо ограничить как снизу, чтобы избежать больших численных погрешностей, так и сверху, чтобы не выйти из области устойчивости.\n",
    "В оценке шага выше присутствует константа $C$, которая на практике не известна, но которую иногда можно разумно оценить.\n",
    "Вместо явного вычисления шага через $y_2-y_1$ можно увеличивать или уменьшать шаг при пересечением ошибкой некой верхней или нижней границы. \n",
    "\n",
    "Вычисление двух решений двумя разными методами представляется слишком дорогой ценой для контроля точности,\n",
    "однако существует способ значительно снизить стоимость расчета вторым методом, переиспользуя результаты первого метода.\n",
    "Например, рассмотрим метод [Рунге-Кутты-Фелберга](https://en.wikipedia.org/wiki/Runge%E2%80%93Kutta%E2%80%93Fehlberg_method).\n",
    "Для задания коэффициентов методов Ругне-Кутты высокого порядка удобно воспользоваться таблицей Батчера:\n",
    "\n",
    "$$\\begin{array}{c|ccccc} \n",
    "0 \\\\\n",
    "c_2 & a_{21} \\\\\n",
    "c_3 & a_{31} & a_{32}\\\\\n",
    "\\vdots & \\vdots & & \\ddots \\\\\n",
    "c_D & a_{D1} & a_{D2} & \\cdots & a_{D,D-1}\\\\\\hline\n",
    "& b_1 & b_2 & \\cdots & b_{D-1} & b_D\n",
    "\\end{array}\n",
    "$$    \n",
    "\n",
    "Значение функции $y_{k+1}$ на $k+1$ шаге находися через решение $y_k$ на $k$-ом шаге по формуле:\n",
    "$$y_{k+1} = y_k + \\delta \\sum_{i=1}^D b_i k_i,$$\n",
    "где значения $k_i$ суть значения правой части ОДУ в промежуточных точках\n",
    "$$k_i=f\\left(y_n+\\delta\\sum_{j=1}^{i-1}a_{i,j}k_j\\right).$$\n",
    "\n",
    "Таблица Батчера для метода Рунге-Кутты-Фелберга имеет вид:\n",
    "$$    \n",
    "\\begin{array}{c|ccccc} \n",
    "0 \\\\\n",
    "1/4 & 1/4 \\\\\n",
    "3/8 & 3/32 & 9/32 \\\\\n",
    "12/13 & 1932/2197 & −7200/2197 & 7296/2197 \\\\\n",
    "1 & 439/216 & −8 & 3680/513 & -845/4104 \\\\\n",
    "1/2 & −8/27 & 2 & −3544/2565 & 1859/4104 & −11/40 \\\\\\hline\n",
    "& 16/135 & 0 & 6656/12825 & 28561/56430 & −9/50 & 2/55 \\\\\n",
    "& 25/216 & 0 & 1408/2565 & 2197/4104 & −1/5 & 0 \\\\\n",
    "\\end{array}\n",
    "$$    \n",
    "Заметим, что таблица имеет две строки для коэффициентов $b_i$: первая строка определяет решение $y_1$ (метод 5-го порядка),\n",
    "а вторая строка решение $y_1$ (метод 4-го порядка).\n",
    "При этом значения $k_i$ для обоих методом совпадают, что увеличивает стоимость стандартного метода Рунге-Кутты 4-го порядка\n",
    "только на два вычисления правой части ОДУ."
   ]
  },
  {
   "cell_type": "code",
   "execution_count": null,
   "metadata": {},
   "outputs": [],
   "source": [
    "# Реализуем универсальный метод Рунге-Кутты, задаваемый таблицей Батчера, передаваемой в виде трех массивов a, b, c.\n",
    "# Массивы имеют следующий вид \n",
    "# c = [c_2, c_3, c_4,...]\n",
    "# a = [[a_21], [a_21, a_22], [a_31, a_32, a_33], ... ]\n",
    "# b = [ [b_1, b_2, ...], альтернативный набор b_i при необходимости ]\n",
    "def ExpliciteRungeKutta(delta, y0, f, a=None, b=None, c=None):\n",
    "    D = len(c) # Порядок метода\n",
    "    k = [f(y0)] # Производные  в промежуточных точках.\n",
    "    for i in range(D):\n",
    "        x = 0 # Здесь накапливается промежуточный сдвиг.\n",
    "        for j in range(i+1):\n",
    "            x = x + a[i][j]*k[j]\n",
    "        k.append( f(y0+delta*x) )\n",
    "    B = len(b) # Число разных методов в рамках одной таблицы.\n",
    "    y1 = np.empty((B,)+y0.shape) # Решения разными методами.\n",
    "    for p in range(B):\n",
    "        x = 0 \n",
    "        for n in range(D+1):\n",
    "            x = x + b[p][n]*k[n]\n",
    "        y1[p] = y0+delta*x\n",
    "    return y1\n",
    "\n",
    "# Стандартный метод Рунге-Кутты.\n",
    "def RK4(delta, y0, f):\n",
    "    return ExpliciteRungeKutta(delta, y0, f, \n",
    "                               a=[[0.5],\n",
    "                                  [0, 0.5],\n",
    "                                  [0,0,1]\n",
    "                                 ],\n",
    "                               b=[[1/6,1/3,1/3,1/6]],\n",
    "                               c=[0.5,0.5,1]\n",
    "                              )[0]\n",
    "\n",
    "# Метод Рунге-Кутты-Фелберга.\n",
    "def RKF(delta, y0, f):\n",
    "    return ExpliciteRungeKutta(delta, y0, f, \n",
    "                               a=[[1/4],\n",
    "                                  [3/32, 9/32],\n",
    "                                  [1932/2197, -7200/2197, 7296/2197],\n",
    "                                  [439/216, -8, 3680/513, -845/4104],\n",
    "                                  [-8/27, 2, -3544/2565, 1859/4104, -11/40]\n",
    "                                 ],\n",
    "                               b = [[16/135, 0, 6656/12825, 28561/56430, -9/50, 2/55],\n",
    "                                    [25/216,0, 1408/2565, 2197/4104, -1/5, 0]\n",
    "                                   ],\n",
    "                               c=[1/4, 3/8, 12/13, 1, 1/2]\n",
    "                              )\n",
    "\n",
    "\n",
    "def f(y): return np.array([-y[1], y[0]])\n",
    "def yExact(t): return np.array([np.cos(t), np.sin(t)])\n",
    "\n",
    "oneStepErrorPlot(f, yExact, RK4)\n",
    "oneStepErrorPlot(f, yExact, lambda *vargs: RKF(*vargs)[0])\n",
    "oneStepErrorPlot(f, yExact, lambda *vargs: RKF(*vargs)[1])\n",
    "firstOrderPlot()\n",
    "plt.legend([u\"метод Рунге-Кутта\",u\"Р-К-Фелберга 5\",u\"Р-К-Фелберга 4\",u\"первый порядок\"],loc=2)\n",
    "plt.show()"
   ]
  },
  {
   "cell_type": "code",
   "execution_count": null,
   "metadata": {},
   "outputs": [],
   "source": [
    "# Решатель ОДУ с адаптивным шагом.\n",
    "def solve_ode_adaptive(T=None, f=None, y0=None, integrator=None, tolerance=None):\n",
    "    \"\"\"\n",
    "    Решает уравнение y'(t)=f(y(t)) с начальными условиями y(0)=y0 на интервале [0,T],\n",
    "    используя интегратор `integrator` и шаг интегрирования delta.\n",
    "    Возвращает пару массивов (tk, yk), где tk хранит отсчеты времени, а yk значения решения в эти отсчеты.\n",
    "    \"\"\"\n",
    "    y0 = np.asarray(y0)\n",
    "    tk = [0.]\n",
    "    yk = [y0] # Массивы для хранения решения.\n",
    "    errors = [0.] # Оценка ошибки\n",
    "    delta = 1e-5\n",
    "    while tk[-1]<T:\n",
    "        y1, y2 = integrator(delta, yk[-1], f)\n",
    "        err = np.linalg.norm(y2-y1)\n",
    "        if err>tolerance:\n",
    "            delta /= 2\n",
    "            continue\n",
    "        tk.append(tk[-1]+delta)\n",
    "        yk.append(y1)         \n",
    "        errors.append(err)\n",
    "        if err<0.1*tolerance:\n",
    "            delta *= 1.5\n",
    "    return np.array(tk), np.array(yk), np.array(errors)\n",
    "\n",
    "def run_test_adaptive(integrator=None, yExact=None, tolerance=None, **problem):\n",
    "    # Готовим место под рисунки\n",
    "    fig, (ax1, ax2) = plt.subplots(1,2,figsize=(15,7))\n",
    "\n",
    "    # Проводим эксперименты.\n",
    "    tk, yk, err = solve_ode_adaptive(integrator=integrator, tolerance=tolerance, **problem) \n",
    "    y0 = yExact(tk)\n",
    "    error = np.abs(yk-y0)\n",
    "    ax1.plot(tk, np.real(yk), '-', label='Numeric')\n",
    "    ax1.plot(tk, np.real(y0), '-k', label='Exact')\n",
    "    ax2.semilogy(tk, error, '.-', label='$y-y_0$')\n",
    "    ax2.semilogy(tk, error, '-.', label='$y_1-y_2$')    \n",
    "    ax2.semilogy(tk, tk*0+tolerance, '--', label=\"tolerance\")\n",
    "    ax3 = ax2.twinx()\n",
    "    ax3.semilogy((tk[1:]+tk[:1])/2, np.diff(tk), '-r', label='dt')\n",
    "    ax1.legend(); ax2.legend()\n",
    "    ax1.set_xlabel(\"$t$\")\n",
    "    ax1.set_ylabel(\"$y(t)$\")    \n",
    "    ax2.set_xlabel(\"$t$\")\n",
    "    ax2.set_ylabel(\"Absolute error for $y(t)$\")\n",
    "    ax3.set_ylabel(\"Time step $\\delta$\")    \n",
    "    plt.show()\n",
    "\n",
    "alpha = -2 # Коэффициент в решаемом уравнении y'(t)=alpha*y(t).\n",
    "problem = {\n",
    "    \"T\": 5, # Промежуток интегрирования\n",
    "    \"f\": lambda y: alpha*y, \n",
    "    \"yExact\": lambda t: np.exp(alpha*t),\n",
    "    \"y0\": 1, # Начальное условие.\n",
    "}\n",
    "\n",
    "run_test_adaptive(integrator=RKF, tolerance=1e-5, **problem)"
   ]
  },
  {
   "cell_type": "markdown",
   "metadata": {},
   "source": [
    "# Задания.\n",
    "\n",
    "12. Численно промоделируйте гравитационное взаимодействие двух тел, используя метод Рунге-Кутты-Фелберга.\n",
    "В качестве оценки точности решения используйте полную энергию систем, полный импульс или другие сохраняющиеся величины.\n",
    "Нарисуйте траектории тел, являются ли орбиты устойчивыми?\n",
    "Покажите изменение ошибки со временем.\n",
    "Изучите, как шаг интегрирования меняется при увеличении скорости тел.\n",
    "\n",
    "13. (повышенная сложность) Предложите метод численного моделирования столкновение двух материальных точек. \n",
    "Как вы обойдете тот факт, что в момент столкновения силы будут бесконечны?\n",
    "Выполняются ли законы сохранения в вашей модели?"
   ]
  },
  {
   "cell_type": "markdown",
   "metadata": {},
   "source": [
    "Рассмотренные выше методы Рунге-Кутты вычисляют значение правой части ОДУ в нескольких промежуточных точках, чтобы апроксимировать решение ОДУ многочленом, \n",
    "который затем вычислется на следующем отсчете времени.\n",
    "Значения в промежуточных точках отбрасываются и не используются на следующих шагах, что представляется не слишком рациональным.\n",
    "[Метод Адамса](https://en.wikipedia.org/wiki/Linear_multistep_method) и сходные методы устраняют этот недостаток.\n",
    "В основе метода лежит преобразование дифференциального уравнения $y'(t)=f(t;y(t))$ с начальными условиями $y(0)=y_0$ в эквивалентное интегральное уравнение:\n",
    "$$y(t)=\\int_0^t f(\\tau, y(\\tau))d\\tau+y_0,$$\n",
    "с последующей заменой интеграла на какую-либо квадратурную формулу, что приводит нас к рекуррентной формуле: \n",
    "$$y_{k}=y_{k-D}+\\delta\\sum_{j=0}^{D} u_{j} f(t_{k-j}, y_{k-j}),$$\n",
    "где мы использовали равномерную решетку для отсчетов времени $t_k$ с шагом $\\delta$ и обозначили значения решения на этих отсчетах через $y_k=y(t_k)$.\n",
    "При использовании квадратурных формул для замкнутого интеграла коэффициент $u_0\\neq 0$, а значит значение $u_k$ нужно находить из решения уравнение, \n",
    "т.е. мы получаем неявный метод.\n",
    "Для простоты расмотрим квадратурную формулу для открытого интервала, что приведет нас явной схеме.\n",
    "Воспользуемся [формулой Ньютона-Котеса](https://en.wikipedia.org/wiki/Newton%E2%80%93Cotes_formulas) четвертого порядка для открытого интервала:\n",
    "$$\n",
    "\\int_a^b f(t)dt = \\frac{4\\delta}{3}(2f(a+\\delta)-f(a+2\\delta)+2f(a+3\\delta))+O(\\delta^5),\\quad\\delta=\\frac{b-a}{4}.\n",
    "$$\n",
    "Заменяя интеграл в интегральном уравнении по указнной формуле, получаем искомый интегратор:\n",
    "$$\n",
    "y_k=\\frac{4\\delta}{3}(2f(t_{k-1},y_{k-1})-f(t_{k-2},y_{k-2})+2f(t_{k-3},y_{k-3}))+y_{k-4}.\n",
    "$$\n",
    "Эта формула использует четыре предыдущих значения функции, однако начальное условие задает только одно значение $y_0$.\n",
    "Для нахождения точек $y_1$, $y_2$, $y_3$ необходимо использовать какой-либо другой метод, например, метод Рунге-Кутты."
   ]
  },
  {
   "cell_type": "code",
   "execution_count": null,
   "metadata": {},
   "outputs": [],
   "source": [
    "# Сравним точность метода Рунге-Кутты и метода Адомса четвертого порядка.\n",
    "# Будем подбирать шаги в обоих методах таким образом, чтобы общее число вычислений правой часто ОДУ было равным для обоих методов.\n",
    "\n",
    "alpha = 5 # Собственное число диф. оператора.\n",
    "f = lambda y: alpha*y #  # Правая часть ОДУ.\n",
    "y0 = 1 # Начальное условие.\n",
    "y = lambda t: y0*np.exp(alpha*t) # Аналитическое решение.\n",
    "T = 1 # Максимальное значение времени.\n",
    "yT = y(T) # Точное значение ответа.\n",
    "\n",
    "Ns = 2**np.arange(5,14) # Число вычислений f.\n",
    "delta_RK = np.empty(Ns.shape) # Шаги для РК для каждого N/\n",
    "delta_A = np.empty(Ns.shape) # Шаги для Адамса.\n",
    "err_RK = np.empty(Ns.shape) # Ошибка метода РК для данного N.\n",
    "err_A = np.empty(Ns.shape) # Ошибка метода Адамса для данного N.\n",
    "\n",
    "for n, N in enumerate(Ns):\n",
    "    # Сначала считаем по РК\n",
    "    K = N//4 # Число шаго по РК\n",
    "    delta = delta_RK[n] = T/K # Шаг интегрирования\n",
    "    yk = y0\n",
    "    for k in range(K): # Делаем шаги по РК\n",
    "        yk = RungeKuttaIntegrator(delta, yk, f)\n",
    "    err_RK[n] = np.abs(yT-yk)\n",
    "    \n",
    "    # Теперь считаем по Адамсу.\n",
    "    delta = delta_A[n] = T/N\n",
    "    yk0 = y0\n",
    "    # Первые несколько точек считаем по РК (не учитываем увеличение числа операций, так как 3*3<<N).\n",
    "    yk1 = RungeKuttaIntegrator(delta, yk0, f)\n",
    "    yk2 = RungeKuttaIntegrator(delta, yk1, f)\n",
    "    yk3 = RungeKuttaIntegrator(delta, yk2, f)\n",
    "    # Сохраняем производные в 4 точках.\n",
    "    fk0, fk1, fk2, fk3 = f(yk0), f(yk1), f(yk2), f(yk3)\n",
    "    for k in range(3, N): # Делаем шаги\n",
    "        yk4 = yk0+4*delta/3*(2*fk1-fk2+2*fk3) # Новая точка\n",
    "        fk4 = f(yk4) # Новая производная\n",
    "        # Перенумеруем точки.\n",
    "        yk0, yk1, yk2, yk3 = yk1, yk2, yk3, yk4\n",
    "        fk0, fk1, fk2, fk3 = fk1, fk2, fk3, fk4        \n",
    "    err_A[n] = np.abs(yT-yk4)\n",
    "    \n",
    "# Строим графики ошибок \n",
    "plt.loglog(Ns, err_RK, '-', label=\"Runge-Kutta\")\n",
    "plt.loglog(Ns, err_A, '-', label=\"Adams\")\n",
    "plt.loglog(Ns, Ns**(-4.), '--k', label=\"$N^{-4}$\")\n",
    "plt.xlabel(\"Число вычислений функции $f$\")\n",
    "plt.ylabel(\"Погрешность интегрования на интервале\")\n",
    "plt.legend()\n",
    "plt.show()\n",
    "\n",
    "# Оба метода имеют четвертый порядок, но Адамс дает заметно более точное решение при том же объемы вычислений, что и РК."
   ]
  },
  {
   "cell_type": "markdown",
   "metadata": {},
   "source": [
    "Выше мы были вынуждены выводить новые формулы, чтобы получить метод нового порядка.\n",
    "Для методов высокого порядка формулы достаточно громоздкие, в них легко ошибиться.\n",
    "Существует однако ряд методов, которые позволяют получать решения высокого порядка, вызывая несколько раз решатели низкого порядка.\n",
    "Рассмотрим, например, метод экстраполяции (отложенной коррекции), см. подробнее и практически полезную реализацию в главе \n",
    "17.3 Richardson Extrapolation and the Bulirsch-Stoer Method книги [Numerical Recipes](http://numerical.recipes/).\n",
    "В основе метода лежит следующее соображение.\n",
    "Пусть у нас имеется некий способ вычислять $y(T)$ по приближенной формуле \n",
    "$y(T)\\approx S(\\delta)$ методом порядка $D$, здесь мы опустили зависимость от $y_0$, $T$, $f$, \n",
    "которые считаются постоянными, варьируется только шаг интегрирования $\\delta$.\n",
    "В силу выбора порядка метода должно выполняться:\n",
    "$$y(T)=S(\\delta)+C\\delta^D +O(\\delta^{D+1}),\\quad \\delta\\to 0.$$\n",
    "При $\\delta=0$ значение $S$ должно дать точный ответ $y(T)=S(0)$, \n",
    "однако практически взять нулевой шаг нельзя, так как в этом случае число шагов бесконечно.\n",
    "Вместо этого, мы попробуем исключить старший вклад в ошибку, имея значение $S$ для разных $\\delta$:\n",
    "$$\n",
    "2^D S(\\delta)-S(2\\delta)=(2^D-1)y(T)+O(\\delta^{D+1}),\n",
    "$$\n",
    "откуда можно выразить $y(T)$ с порядком ошибки на единицу больше, чем для метода $S$.\n",
    "Нам удалось повысить порядок метода на $\\mu$, не прилагая больших усилий."
   ]
  },
  {
   "cell_type": "code",
   "execution_count": null,
   "metadata": {},
   "outputs": [],
   "source": [
    "# Попробуем увеличить порядок модифицированного метода Эйлера, используя экстраполяцию по шагу.\n",
    "from numpy.polynomial import polynomial as P\n",
    "\n",
    "alpha = 5 # Собственное число диф. оператора.\n",
    "f = lambda y: alpha*y #  # Правая часть ОДУ.\n",
    "y0 = 1 # Начальное условие.\n",
    "y = lambda t: y0*np.exp(alpha*t) # Аналитическое решение.\n",
    "T = 1 # Максимальное значение времени.\n",
    "yT = y(T) # Точное значение ответа.\n",
    "\n",
    "aux_integrator = ModifiedEulerIntegrator # Вспомогательный интегратор\n",
    "D = 2 # Порядок вспомогательного метода\n",
    "\n",
    "Ns = 2**np.arange(2,12) # Число вычислений f.\n",
    "err_RK = np.empty(Ns.shape) # Ошибка метода РК для данного N.\n",
    "err_mE = np.empty(Ns.shape) # Ошибка метода модифицированного Эйлера для данного N.\n",
    "err_Ext = np.empty(Ns.shape) # Ошибка метода экстраполяции для данного N.\n",
    "\n",
    "for n, N in enumerate(Ns):\n",
    "    # Сначала считаем по РК, увеличивая число шагов до самого большого в методе экстраполяции.\n",
    "    yk = integrate(N, T/N, f, y0, RungeKuttaIntegrator)\n",
    "    err_RK[n] = np.abs(yk-yT)\n",
    "    # Теперь считаем по модифицированному Эйлеру для разных шагов.\n",
    "    yk1 = integrate(N, T/N, f, y0, aux_integrator) # для плотной решетки\n",
    "    yk2 = integrate(N//2, 2*T/N, f, y0, aux_integrator) # для в два раза более редкой решетки\n",
    "    err_mE[n] = np.abs(yk1-yT) # Ошибка метода м-Эйлера на плотной решетке\n",
    "    # Повышаем порядок точности\n",
    "    yk = (2**D*yk1-yk2)/(2**D-1)\n",
    "    err_Ext[n] = np.abs(yk-yT)\n",
    "    \n",
    "# Строим графики ошибок \n",
    "plt.loglog(Ns*4, err_RK, '-', label=\"Runge-Kutta\")\n",
    "plt.loglog(Ns*2, err_mE, '-', label=\"modified Euler\")\n",
    "plt.loglog(Ns*3, err_Ext, '-', label=\"Extrapolation\")\n",
    "plt.loglog(Ns, Ns**(-3.), '--k', label=\"$N^{-3}$\")\n",
    "plt.xlabel(\"Число вычислений функции $f$\")\n",
    "plt.ylabel(\"Погрешность интегрования на интервале\")\n",
    "plt.legend()\n",
    "plt.show()\n",
    "\n",
    "# Действительно, порядок метода повысился. \n",
    "# Порядок мог бы быть еще на единицу выше, если бы мы использовали в качестве aux_integrator метод,\n",
    "# ошибка для которого была бы четной функцией delta.\n",
    "# Мы могли бы исключить большее число старших членов ошибки, если бы вычислили S для большего набора шагов.\n",
    "# Все вмести эти техники объединены в методе Bulirsch-Stoer'а."
   ]
  },
  {
   "cell_type": "code",
   "execution_count": null,
   "metadata": {},
   "outputs": [],
   "source": []
  }
 ],
 "metadata": {
  "kernelspec": {
   "display_name": "Python 3",
   "language": "python",
   "name": "python3"
  },
  "language_info": {
   "codemirror_mode": {
    "name": "ipython",
    "version": 3
   },
   "file_extension": ".py",
   "mimetype": "text/x-python",
   "name": "python",
   "nbconvert_exporter": "python",
   "pygments_lexer": "ipython3",
   "version": "3.6.9"
  }
 },
 "nbformat": 4,
 "nbformat_minor": 4
}
